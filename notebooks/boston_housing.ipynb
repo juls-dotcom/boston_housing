{
 "cells": [
  {
   "cell_type": "code",
   "execution_count": 1,
   "metadata": {},
   "outputs": [],
   "source": [
    "import pandas as pd\n",
    "import os\n",
    "import matplotlib.pyplot as plt\n",
    "import numpy as np\n",
    "from math import sqrt"
   ]
  },
  {
   "cell_type": "code",
   "execution_count": 2,
   "metadata": {},
   "outputs": [],
   "source": [
    "%load_ext autoreload\n",
    "%autoreload 2"
   ]
  },
  {
   "cell_type": "code",
   "execution_count": 3,
   "metadata": {},
   "outputs": [
    {
     "name": "stdout",
     "output_type": "stream",
     "text": [
      "/home/julien/Documents/Projects/datasets/boston_housing\n"
     ]
    }
   ],
   "source": [
    "os.getcwd()\n",
    "path = '/home/julien/Documents/Projects/datasets/boston_housing'\n",
    "os.chdir(path)\n",
    "print(os.getcwd())"
   ]
  },
  {
   "cell_type": "code",
   "execution_count": 4,
   "metadata": {},
   "outputs": [],
   "source": [
    "filename = 'housing.csv'\n",
    "df = pd.read_csv(filename, \n",
    "                 delim_whitespace=True,\n",
    "                 header = None)"
   ]
  },
  {
   "cell_type": "code",
   "execution_count": 5,
   "metadata": {},
   "outputs": [],
   "source": [
    "from boston_housing.show_NAs import show_NAs"
   ]
  },
  {
   "cell_type": "code",
   "execution_count": 6,
   "metadata": {},
   "outputs": [
    {
     "data": {
      "text/html": [
       "<div>\n",
       "<style scoped>\n",
       "    .dataframe tbody tr th:only-of-type {\n",
       "        vertical-align: middle;\n",
       "    }\n",
       "\n",
       "    .dataframe tbody tr th {\n",
       "        vertical-align: top;\n",
       "    }\n",
       "\n",
       "    .dataframe thead th {\n",
       "        text-align: right;\n",
       "    }\n",
       "</style>\n",
       "<table border=\"1\" class=\"dataframe\">\n",
       "  <thead>\n",
       "    <tr style=\"text-align: right;\">\n",
       "      <th></th>\n",
       "      <th>NAs</th>\n",
       "    </tr>\n",
       "  </thead>\n",
       "  <tbody>\n",
       "  </tbody>\n",
       "</table>\n",
       "</div>"
      ],
      "text/plain": [
       "Empty DataFrame\n",
       "Columns: [NAs]\n",
       "Index: []"
      ]
     },
     "execution_count": 6,
     "metadata": {},
     "output_type": "execute_result"
    }
   ],
   "source": [
    "show_NAs(df)"
   ]
  },
  {
   "cell_type": "markdown",
   "metadata": {},
   "source": [
    "### Munging Pipeline"
   ]
  },
  {
   "cell_type": "code",
   "execution_count": 7,
   "metadata": {},
   "outputs": [],
   "source": [
    "#Checking for missing data\n",
    "def show_NAs(dataf):\n",
    "    NAs = pd.concat([dataf.isnull().sum()], axis=1, keys=['NAs'])\n",
    "    return NAs[NAs.sum(axis=1) > 0]"
   ]
  },
  {
   "cell_type": "code",
   "execution_count": 8,
   "metadata": {},
   "outputs": [],
   "source": [
    "# Start pipeline\n",
    "def start_pipeline(dataf):\n",
    "    dataf = dataf.copy()\n",
    "    return dataf\n",
    "\n",
    "# Rename columns\n",
    "#  - CRIM     per capita crime rate by town\n",
    "#  - ZN       proportion of residential land zoned for lots over 25,000 sq.ft.\n",
    "#  - INDUS    proportion of non-retail business acres per town\n",
    "#  - CHAS     Charles River dummy variable (= 1 if tract bounds river; 0 otherwise)\n",
    "#  - NOX      nitric oxides concentration (parts per 10 million)\n",
    "#  - RM       average number of rooms per dwelling\n",
    "#  - AGE      proportion of owner-occupied units built prior to 1940\n",
    "#  - DIS      weighted distances to five Boston employment centres\n",
    "#  - RAD      index of accessibility to radial highways\n",
    "#  - TAX      full-value property-tax rate per $10,000\n",
    "#  - PTRATIO  pupil-teacher ratio by town\n",
    "#  - B        1000(Bk - 0.63)^2 where Bk is the proportion of blacks by town = is this black people??!!\n",
    "#  - LSTAT    % lower status of the population\n",
    "#  - MEDV     Median value of owner-occupied homes in $1000's\n",
    "def rename_cols(dataf):\n",
    "    dataf = dataf.rename(columns={0:'crim',\n",
    "                                  1: 'res_zone',\n",
    "                                  2: 'indus',\n",
    "                                  3: 'river',\n",
    "                                  4: 'nox',\n",
    "                                  5: 'rooms',\n",
    "                                  6: 'age',\n",
    "                                  7: 'distance',\n",
    "                                  8: 'highways',\n",
    "                                  9: 'tax',\n",
    "                                  10:'pupil_ratio',\n",
    "                                  11:'blacks',\n",
    "                                  12:'lstats',\n",
    "                                  13:'medv'}\n",
    "                                  \n",
    "                        )\n",
    "    return dataf\n",
    "\n",
    "def by_the_river(dataf):\n",
    "    river_dict = {0: 'Not_by_river',\n",
    "                  1: 'By_river'}\n",
    "    dataf['river'] = dataf['river'].map(river_dict)\n",
    "    dataf['river'] = pd.Categorical(dataf['river'])\n",
    "    return dataf"
   ]
  },
  {
   "cell_type": "code",
   "execution_count": 9,
   "metadata": {},
   "outputs": [],
   "source": [
    "df_clean = (df\n",
    ".pipe(start_pipeline)\n",
    ".pipe(rename_cols)\n",
    ".pipe(by_the_river)\n",
    "           )"
   ]
  },
  {
   "cell_type": "code",
   "execution_count": 10,
   "metadata": {},
   "outputs": [
    {
     "data": {
      "text/html": [
       "<div>\n",
       "<style scoped>\n",
       "    .dataframe tbody tr th:only-of-type {\n",
       "        vertical-align: middle;\n",
       "    }\n",
       "\n",
       "    .dataframe tbody tr th {\n",
       "        vertical-align: top;\n",
       "    }\n",
       "\n",
       "    .dataframe thead th {\n",
       "        text-align: right;\n",
       "    }\n",
       "</style>\n",
       "<table border=\"1\" class=\"dataframe\">\n",
       "  <thead>\n",
       "    <tr style=\"text-align: right;\">\n",
       "      <th></th>\n",
       "      <th>crim</th>\n",
       "      <th>res_zone</th>\n",
       "      <th>indus</th>\n",
       "      <th>river</th>\n",
       "      <th>nox</th>\n",
       "      <th>rooms</th>\n",
       "      <th>age</th>\n",
       "      <th>distance</th>\n",
       "      <th>highways</th>\n",
       "      <th>tax</th>\n",
       "      <th>pupil_ratio</th>\n",
       "      <th>blacks</th>\n",
       "      <th>lstats</th>\n",
       "      <th>medv</th>\n",
       "    </tr>\n",
       "  </thead>\n",
       "  <tbody>\n",
       "    <tr>\n",
       "      <th>204</th>\n",
       "      <td>0.02009</td>\n",
       "      <td>95.0</td>\n",
       "      <td>2.68</td>\n",
       "      <td>Not_by_river</td>\n",
       "      <td>0.4161</td>\n",
       "      <td>8.034</td>\n",
       "      <td>31.9</td>\n",
       "      <td>5.1180</td>\n",
       "      <td>4</td>\n",
       "      <td>224.0</td>\n",
       "      <td>14.7</td>\n",
       "      <td>390.55</td>\n",
       "      <td>2.88</td>\n",
       "      <td>50.0</td>\n",
       "    </tr>\n",
       "    <tr>\n",
       "      <th>200</th>\n",
       "      <td>0.01778</td>\n",
       "      <td>95.0</td>\n",
       "      <td>1.47</td>\n",
       "      <td>Not_by_river</td>\n",
       "      <td>0.4030</td>\n",
       "      <td>7.135</td>\n",
       "      <td>13.9</td>\n",
       "      <td>7.6534</td>\n",
       "      <td>3</td>\n",
       "      <td>402.0</td>\n",
       "      <td>17.0</td>\n",
       "      <td>384.30</td>\n",
       "      <td>4.45</td>\n",
       "      <td>32.9</td>\n",
       "    </tr>\n",
       "  </tbody>\n",
       "</table>\n",
       "</div>"
      ],
      "text/plain": [
       "        crim  res_zone  indus         river     nox  rooms   age  distance  \\\n",
       "204  0.02009      95.0   2.68  Not_by_river  0.4161  8.034  31.9    5.1180   \n",
       "200  0.01778      95.0   1.47  Not_by_river  0.4030  7.135  13.9    7.6534   \n",
       "\n",
       "     highways    tax  pupil_ratio  blacks  lstats  medv  \n",
       "204         4  224.0         14.7  390.55    2.88  50.0  \n",
       "200         3  402.0         17.0  384.30    4.45  32.9  "
      ]
     },
     "execution_count": 10,
     "metadata": {},
     "output_type": "execute_result"
    }
   ],
   "source": [
    "df_clean.sample(2)"
   ]
  },
  {
   "cell_type": "code",
   "execution_count": 11,
   "metadata": {},
   "outputs": [
    {
     "data": {
      "text/html": [
       "<div>\n",
       "<style scoped>\n",
       "    .dataframe tbody tr th:only-of-type {\n",
       "        vertical-align: middle;\n",
       "    }\n",
       "\n",
       "    .dataframe tbody tr th {\n",
       "        vertical-align: top;\n",
       "    }\n",
       "\n",
       "    .dataframe thead th {\n",
       "        text-align: right;\n",
       "    }\n",
       "</style>\n",
       "<table border=\"1\" class=\"dataframe\">\n",
       "  <thead>\n",
       "    <tr style=\"text-align: right;\">\n",
       "      <th></th>\n",
       "      <th>NAs</th>\n",
       "    </tr>\n",
       "  </thead>\n",
       "  <tbody>\n",
       "  </tbody>\n",
       "</table>\n",
       "</div>"
      ],
      "text/plain": [
       "Empty DataFrame\n",
       "Columns: [NAs]\n",
       "Index: []"
      ]
     },
     "execution_count": 11,
     "metadata": {},
     "output_type": "execute_result"
    }
   ],
   "source": [
    "show_NAs(df_clean)"
   ]
  },
  {
   "cell_type": "code",
   "execution_count": 12,
   "metadata": {},
   "outputs": [
    {
     "data": {
      "text/html": [
       "<div>\n",
       "<style scoped>\n",
       "    .dataframe tbody tr th:only-of-type {\n",
       "        vertical-align: middle;\n",
       "    }\n",
       "\n",
       "    .dataframe tbody tr th {\n",
       "        vertical-align: top;\n",
       "    }\n",
       "\n",
       "    .dataframe thead th {\n",
       "        text-align: right;\n",
       "    }\n",
       "</style>\n",
       "<table border=\"1\" class=\"dataframe\">\n",
       "  <thead>\n",
       "    <tr style=\"text-align: right;\">\n",
       "      <th></th>\n",
       "      <th>crim</th>\n",
       "      <th>res_zone</th>\n",
       "      <th>indus</th>\n",
       "      <th>nox</th>\n",
       "      <th>rooms</th>\n",
       "      <th>age</th>\n",
       "      <th>distance</th>\n",
       "      <th>highways</th>\n",
       "      <th>tax</th>\n",
       "      <th>pupil_ratio</th>\n",
       "      <th>blacks</th>\n",
       "      <th>lstats</th>\n",
       "      <th>medv</th>\n",
       "    </tr>\n",
       "  </thead>\n",
       "  <tbody>\n",
       "    <tr>\n",
       "      <th>crim</th>\n",
       "      <td>1.000000</td>\n",
       "      <td>-0.200469</td>\n",
       "      <td>0.406583</td>\n",
       "      <td>0.420972</td>\n",
       "      <td>-0.219247</td>\n",
       "      <td>0.352734</td>\n",
       "      <td>-0.379670</td>\n",
       "      <td>0.625505</td>\n",
       "      <td>0.582764</td>\n",
       "      <td>0.289946</td>\n",
       "      <td>-0.385064</td>\n",
       "      <td>0.455621</td>\n",
       "      <td>-0.388305</td>\n",
       "    </tr>\n",
       "    <tr>\n",
       "      <th>res_zone</th>\n",
       "      <td>-0.200469</td>\n",
       "      <td>1.000000</td>\n",
       "      <td>-0.533828</td>\n",
       "      <td>-0.516604</td>\n",
       "      <td>0.311991</td>\n",
       "      <td>-0.569537</td>\n",
       "      <td>0.664408</td>\n",
       "      <td>-0.311948</td>\n",
       "      <td>-0.314563</td>\n",
       "      <td>-0.391679</td>\n",
       "      <td>0.175520</td>\n",
       "      <td>-0.412995</td>\n",
       "      <td>0.360445</td>\n",
       "    </tr>\n",
       "    <tr>\n",
       "      <th>indus</th>\n",
       "      <td>0.406583</td>\n",
       "      <td>-0.533828</td>\n",
       "      <td>1.000000</td>\n",
       "      <td>0.763651</td>\n",
       "      <td>-0.391676</td>\n",
       "      <td>0.644779</td>\n",
       "      <td>-0.708027</td>\n",
       "      <td>0.595129</td>\n",
       "      <td>0.720760</td>\n",
       "      <td>0.383248</td>\n",
       "      <td>-0.356977</td>\n",
       "      <td>0.603800</td>\n",
       "      <td>-0.483725</td>\n",
       "    </tr>\n",
       "    <tr>\n",
       "      <th>nox</th>\n",
       "      <td>0.420972</td>\n",
       "      <td>-0.516604</td>\n",
       "      <td>0.763651</td>\n",
       "      <td>1.000000</td>\n",
       "      <td>-0.302188</td>\n",
       "      <td>0.731470</td>\n",
       "      <td>-0.769230</td>\n",
       "      <td>0.611441</td>\n",
       "      <td>0.668023</td>\n",
       "      <td>0.188933</td>\n",
       "      <td>-0.380051</td>\n",
       "      <td>0.590879</td>\n",
       "      <td>-0.427321</td>\n",
       "    </tr>\n",
       "    <tr>\n",
       "      <th>rooms</th>\n",
       "      <td>-0.219247</td>\n",
       "      <td>0.311991</td>\n",
       "      <td>-0.391676</td>\n",
       "      <td>-0.302188</td>\n",
       "      <td>1.000000</td>\n",
       "      <td>-0.240265</td>\n",
       "      <td>0.205246</td>\n",
       "      <td>-0.209847</td>\n",
       "      <td>-0.292048</td>\n",
       "      <td>-0.355501</td>\n",
       "      <td>0.128069</td>\n",
       "      <td>-0.613808</td>\n",
       "      <td>0.695360</td>\n",
       "    </tr>\n",
       "    <tr>\n",
       "      <th>age</th>\n",
       "      <td>0.352734</td>\n",
       "      <td>-0.569537</td>\n",
       "      <td>0.644779</td>\n",
       "      <td>0.731470</td>\n",
       "      <td>-0.240265</td>\n",
       "      <td>1.000000</td>\n",
       "      <td>-0.747881</td>\n",
       "      <td>0.456022</td>\n",
       "      <td>0.506456</td>\n",
       "      <td>0.261515</td>\n",
       "      <td>-0.273534</td>\n",
       "      <td>0.602339</td>\n",
       "      <td>-0.376955</td>\n",
       "    </tr>\n",
       "    <tr>\n",
       "      <th>distance</th>\n",
       "      <td>-0.379670</td>\n",
       "      <td>0.664408</td>\n",
       "      <td>-0.708027</td>\n",
       "      <td>-0.769230</td>\n",
       "      <td>0.205246</td>\n",
       "      <td>-0.747881</td>\n",
       "      <td>1.000000</td>\n",
       "      <td>-0.494588</td>\n",
       "      <td>-0.534432</td>\n",
       "      <td>-0.232471</td>\n",
       "      <td>0.291512</td>\n",
       "      <td>-0.496996</td>\n",
       "      <td>0.249929</td>\n",
       "    </tr>\n",
       "    <tr>\n",
       "      <th>highways</th>\n",
       "      <td>0.625505</td>\n",
       "      <td>-0.311948</td>\n",
       "      <td>0.595129</td>\n",
       "      <td>0.611441</td>\n",
       "      <td>-0.209847</td>\n",
       "      <td>0.456022</td>\n",
       "      <td>-0.494588</td>\n",
       "      <td>1.000000</td>\n",
       "      <td>0.910228</td>\n",
       "      <td>0.464741</td>\n",
       "      <td>-0.444413</td>\n",
       "      <td>0.488676</td>\n",
       "      <td>-0.381626</td>\n",
       "    </tr>\n",
       "    <tr>\n",
       "      <th>tax</th>\n",
       "      <td>0.582764</td>\n",
       "      <td>-0.314563</td>\n",
       "      <td>0.720760</td>\n",
       "      <td>0.668023</td>\n",
       "      <td>-0.292048</td>\n",
       "      <td>0.506456</td>\n",
       "      <td>-0.534432</td>\n",
       "      <td>0.910228</td>\n",
       "      <td>1.000000</td>\n",
       "      <td>0.460853</td>\n",
       "      <td>-0.441808</td>\n",
       "      <td>0.543993</td>\n",
       "      <td>-0.468536</td>\n",
       "    </tr>\n",
       "    <tr>\n",
       "      <th>pupil_ratio</th>\n",
       "      <td>0.289946</td>\n",
       "      <td>-0.391679</td>\n",
       "      <td>0.383248</td>\n",
       "      <td>0.188933</td>\n",
       "      <td>-0.355501</td>\n",
       "      <td>0.261515</td>\n",
       "      <td>-0.232471</td>\n",
       "      <td>0.464741</td>\n",
       "      <td>0.460853</td>\n",
       "      <td>1.000000</td>\n",
       "      <td>-0.177383</td>\n",
       "      <td>0.374044</td>\n",
       "      <td>-0.507787</td>\n",
       "    </tr>\n",
       "    <tr>\n",
       "      <th>blacks</th>\n",
       "      <td>-0.385064</td>\n",
       "      <td>0.175520</td>\n",
       "      <td>-0.356977</td>\n",
       "      <td>-0.380051</td>\n",
       "      <td>0.128069</td>\n",
       "      <td>-0.273534</td>\n",
       "      <td>0.291512</td>\n",
       "      <td>-0.444413</td>\n",
       "      <td>-0.441808</td>\n",
       "      <td>-0.177383</td>\n",
       "      <td>1.000000</td>\n",
       "      <td>-0.366087</td>\n",
       "      <td>0.333461</td>\n",
       "    </tr>\n",
       "    <tr>\n",
       "      <th>lstats</th>\n",
       "      <td>0.455621</td>\n",
       "      <td>-0.412995</td>\n",
       "      <td>0.603800</td>\n",
       "      <td>0.590879</td>\n",
       "      <td>-0.613808</td>\n",
       "      <td>0.602339</td>\n",
       "      <td>-0.496996</td>\n",
       "      <td>0.488676</td>\n",
       "      <td>0.543993</td>\n",
       "      <td>0.374044</td>\n",
       "      <td>-0.366087</td>\n",
       "      <td>1.000000</td>\n",
       "      <td>-0.737663</td>\n",
       "    </tr>\n",
       "    <tr>\n",
       "      <th>medv</th>\n",
       "      <td>-0.388305</td>\n",
       "      <td>0.360445</td>\n",
       "      <td>-0.483725</td>\n",
       "      <td>-0.427321</td>\n",
       "      <td>0.695360</td>\n",
       "      <td>-0.376955</td>\n",
       "      <td>0.249929</td>\n",
       "      <td>-0.381626</td>\n",
       "      <td>-0.468536</td>\n",
       "      <td>-0.507787</td>\n",
       "      <td>0.333461</td>\n",
       "      <td>-0.737663</td>\n",
       "      <td>1.000000</td>\n",
       "    </tr>\n",
       "  </tbody>\n",
       "</table>\n",
       "</div>"
      ],
      "text/plain": [
       "                 crim  res_zone     indus       nox     rooms       age  \\\n",
       "crim         1.000000 -0.200469  0.406583  0.420972 -0.219247  0.352734   \n",
       "res_zone    -0.200469  1.000000 -0.533828 -0.516604  0.311991 -0.569537   \n",
       "indus        0.406583 -0.533828  1.000000  0.763651 -0.391676  0.644779   \n",
       "nox          0.420972 -0.516604  0.763651  1.000000 -0.302188  0.731470   \n",
       "rooms       -0.219247  0.311991 -0.391676 -0.302188  1.000000 -0.240265   \n",
       "age          0.352734 -0.569537  0.644779  0.731470 -0.240265  1.000000   \n",
       "distance    -0.379670  0.664408 -0.708027 -0.769230  0.205246 -0.747881   \n",
       "highways     0.625505 -0.311948  0.595129  0.611441 -0.209847  0.456022   \n",
       "tax          0.582764 -0.314563  0.720760  0.668023 -0.292048  0.506456   \n",
       "pupil_ratio  0.289946 -0.391679  0.383248  0.188933 -0.355501  0.261515   \n",
       "blacks      -0.385064  0.175520 -0.356977 -0.380051  0.128069 -0.273534   \n",
       "lstats       0.455621 -0.412995  0.603800  0.590879 -0.613808  0.602339   \n",
       "medv        -0.388305  0.360445 -0.483725 -0.427321  0.695360 -0.376955   \n",
       "\n",
       "             distance  highways       tax  pupil_ratio    blacks    lstats  \\\n",
       "crim        -0.379670  0.625505  0.582764     0.289946 -0.385064  0.455621   \n",
       "res_zone     0.664408 -0.311948 -0.314563    -0.391679  0.175520 -0.412995   \n",
       "indus       -0.708027  0.595129  0.720760     0.383248 -0.356977  0.603800   \n",
       "nox         -0.769230  0.611441  0.668023     0.188933 -0.380051  0.590879   \n",
       "rooms        0.205246 -0.209847 -0.292048    -0.355501  0.128069 -0.613808   \n",
       "age         -0.747881  0.456022  0.506456     0.261515 -0.273534  0.602339   \n",
       "distance     1.000000 -0.494588 -0.534432    -0.232471  0.291512 -0.496996   \n",
       "highways    -0.494588  1.000000  0.910228     0.464741 -0.444413  0.488676   \n",
       "tax         -0.534432  0.910228  1.000000     0.460853 -0.441808  0.543993   \n",
       "pupil_ratio -0.232471  0.464741  0.460853     1.000000 -0.177383  0.374044   \n",
       "blacks       0.291512 -0.444413 -0.441808    -0.177383  1.000000 -0.366087   \n",
       "lstats      -0.496996  0.488676  0.543993     0.374044 -0.366087  1.000000   \n",
       "medv         0.249929 -0.381626 -0.468536    -0.507787  0.333461 -0.737663   \n",
       "\n",
       "                 medv  \n",
       "crim        -0.388305  \n",
       "res_zone     0.360445  \n",
       "indus       -0.483725  \n",
       "nox         -0.427321  \n",
       "rooms        0.695360  \n",
       "age         -0.376955  \n",
       "distance     0.249929  \n",
       "highways    -0.381626  \n",
       "tax         -0.468536  \n",
       "pupil_ratio -0.507787  \n",
       "blacks       0.333461  \n",
       "lstats      -0.737663  \n",
       "medv         1.000000  "
      ]
     },
     "execution_count": 12,
     "metadata": {},
     "output_type": "execute_result"
    }
   ],
   "source": [
    "df_clean.corr()"
   ]
  },
  {
   "cell_type": "code",
   "execution_count": 13,
   "metadata": {},
   "outputs": [
    {
     "data": {
      "text/plain": [
       "<matplotlib.axes._subplots.AxesSubplot at 0x7fcbd49d8950>"
      ]
     },
     "execution_count": 13,
     "metadata": {},
     "output_type": "execute_result"
    },
    {
     "data": {
      "image/png": "[encoded data removed]",
      "text/plain": [
       "<Figure size 432x288 with 1 Axes>"
      ]
     },
     "metadata": {
      "needs_background": "light"
     },
     "output_type": "display_data"
    }
   ],
   "source": [
    "(df_clean\n",
    ".corr()['medv'].drop(index='medv')\n",
    ".sort_values()\n",
    ".plot(kind='bar')\n",
    ")"
   ]
  },
  {
   "cell_type": "code",
   "execution_count": 14,
   "metadata": {},
   "outputs": [
    {
     "data": {
      "text/html": [
       "<style  type=\"text/css\" >\n",
       "    #T_d0c8dcdc_37cf_11ea_bbc6_ebbb0198101frow0_col0 {\n",
       "            background-color:  #b40426;\n",
       "        }    #T_d0c8dcdc_37cf_11ea_bbc6_ebbb0198101frow0_col1 {\n",
       "            background-color:  #4358cb;\n",
       "        }    #T_d0c8dcdc_37cf_11ea_bbc6_ebbb0198101frow0_col2 {\n",
       "            background-color:  #516ddb;\n",
       "        }    #T_d0c8dcdc_37cf_11ea_bbc6_ebbb0198101frow0_col3 {\n",
       "            background-color:  #9abbff;\n",
       "        }    #T_d0c8dcdc_37cf_11ea_bbc6_ebbb0198101frow0_col4 {\n",
       "            background-color:  #5a78e4;\n",
       "        }    #T_d0c8dcdc_37cf_11ea_bbc6_ebbb0198101frow0_col5 {\n",
       "            background-color:  #688aef;\n",
       "        }    #T_d0c8dcdc_37cf_11ea_bbc6_ebbb0198101frow0_col6 {\n",
       "            background-color:  #82a6fb;\n",
       "        }    #T_d0c8dcdc_37cf_11ea_bbc6_ebbb0198101frow0_col7 {\n",
       "            background-color:  #e3d9d3;\n",
       "        }    #T_d0c8dcdc_37cf_11ea_bbc6_ebbb0198101frow0_col8 {\n",
       "            background-color:  #c4d5f3;\n",
       "        }    #T_d0c8dcdc_37cf_11ea_bbc6_ebbb0198101frow0_col9 {\n",
       "            background-color:  #6687ed;\n",
       "        }    #T_d0c8dcdc_37cf_11ea_bbc6_ebbb0198101frow0_col10 {\n",
       "            background-color:  #9dbdff;\n",
       "        }    #T_d0c8dcdc_37cf_11ea_bbc6_ebbb0198101frow0_col11 {\n",
       "            background-color:  #6788ee;\n",
       "        }    #T_d0c8dcdc_37cf_11ea_bbc6_ebbb0198101frow0_col12 {\n",
       "            background-color:  #7699f6;\n",
       "        }    #T_d0c8dcdc_37cf_11ea_bbc6_ebbb0198101frow1_col0 {\n",
       "            background-color:  #3b4cc0;\n",
       "        }    #T_d0c8dcdc_37cf_11ea_bbc6_ebbb0198101frow1_col1 {\n",
       "            background-color:  #b40426;\n",
       "        }    #T_d0c8dcdc_37cf_11ea_bbc6_ebbb0198101frow1_col2 {\n",
       "            background-color:  #96b7ff;\n",
       "        }    #T_d0c8dcdc_37cf_11ea_bbc6_ebbb0198101frow1_col3 {\n",
       "            background-color:  #c1d4f4;\n",
       "        }    #T_d0c8dcdc_37cf_11ea_bbc6_ebbb0198101frow1_col4 {\n",
       "            background-color:  #7ea1fa;\n",
       "        }    #T_d0c8dcdc_37cf_11ea_bbc6_ebbb0198101frow1_col5 {\n",
       "            background-color:  #cad8ef;\n",
       "        }    #T_d0c8dcdc_37cf_11ea_bbc6_ebbb0198101frow1_col6 {\n",
       "            background-color:  #eed0c0;\n",
       "        }    #T_d0c8dcdc_37cf_11ea_bbc6_ebbb0198101frow1_col7 {\n",
       "            background-color:  #6384eb;\n",
       "        }    #T_d0c8dcdc_37cf_11ea_bbc6_ebbb0198101frow1_col8 {\n",
       "            background-color:  #445acc;\n",
       "        }    #T_d0c8dcdc_37cf_11ea_bbc6_ebbb0198101frow1_col9 {\n",
       "            background-color:  #90b2fe;\n",
       "        }    #T_d0c8dcdc_37cf_11ea_bbc6_ebbb0198101frow1_col10 {\n",
       "            background-color:  #4a63d3;\n",
       "        }    #T_d0c8dcdc_37cf_11ea_bbc6_ebbb0198101frow1_col11 {\n",
       "            background-color:  #506bda;\n",
       "        }    #T_d0c8dcdc_37cf_11ea_bbc6_ebbb0198101frow1_col12 {\n",
       "            background-color:  #688aef;\n",
       "        }    #T_d0c8dcdc_37cf_11ea_bbc6_ebbb0198101frow2_col0 {\n",
       "            background-color:  #8fb1fe;\n",
       "        }    #T_d0c8dcdc_37cf_11ea_bbc6_ebbb0198101frow2_col1 {\n",
       "            background-color:  #cbd8ee;\n",
       "        }    #T_d0c8dcdc_37cf_11ea_bbc6_ebbb0198101frow2_col2 {\n",
       "            background-color:  #b40426;\n",
       "        }    #T_d0c8dcdc_37cf_11ea_bbc6_ebbb0198101frow2_col3 {\n",
       "            background-color:  #f7a98b;\n",
       "        }    #T_d0c8dcdc_37cf_11ea_bbc6_ebbb0198101frow2_col4 {\n",
       "            background-color:  #9fbfff;\n",
       "        }    #T_d0c8dcdc_37cf_11ea_bbc6_ebbb0198101frow2_col5 {\n",
       "            background-color:  #e5d8d1;\n",
       "        }    #T_d0c8dcdc_37cf_11ea_bbc6_ebbb0198101frow2_col6 {\n",
       "            background-color:  #f5c2aa;\n",
       "        }    #T_d0c8dcdc_37cf_11ea_bbc6_ebbb0198101frow2_col7 {\n",
       "            background-color:  #d9dce1;\n",
       "        }    #T_d0c8dcdc_37cf_11ea_bbc6_ebbb0198101frow2_col8 {\n",
       "            background-color:  #f2c9b4;\n",
       "        }    #T_d0c8dcdc_37cf_11ea_bbc6_ebbb0198101frow2_col9 {\n",
       "            background-color:  #8db0fe;\n",
       "        }    #T_d0c8dcdc_37cf_11ea_bbc6_ebbb0198101frow2_col10 {\n",
       "            background-color:  #92b4fe;\n",
       "        }    #T_d0c8dcdc_37cf_11ea_bbc6_ebbb0198101frow2_col11 {\n",
       "            background-color:  #b7cff9;\n",
       "        }    #T_d0c8dcdc_37cf_11ea_bbc6_ebbb0198101frow2_col12 {\n",
       "            background-color:  #a2c1ff;\n",
       "        }    #T_d0c8dcdc_37cf_11ea_bbc6_ebbb0198101frow3_col0 {\n",
       "            background-color:  #96b7ff;\n",
       "        }    #T_d0c8dcdc_37cf_11ea_bbc6_ebbb0198101frow3_col1 {\n",
       "            background-color:  #c4d5f3;\n",
       "        }    #T_d0c8dcdc_37cf_11ea_bbc6_ebbb0198101frow3_col2 {\n",
       "            background-color:  #f5c2aa;\n",
       "        }    #T_d0c8dcdc_37cf_11ea_bbc6_ebbb0198101frow3_col3 {\n",
       "            background-color:  #b40426;\n",
       "        }    #T_d0c8dcdc_37cf_11ea_bbc6_ebbb0198101frow3_col4 {\n",
       "            background-color:  #7b9ff9;\n",
       "        }    #T_d0c8dcdc_37cf_11ea_bbc6_ebbb0198101frow3_col5 {\n",
       "            background-color:  #f6bea4;\n",
       "        }    #T_d0c8dcdc_37cf_11ea_bbc6_ebbb0198101frow3_col6 {\n",
       "            background-color:  #f7a98b;\n",
       "        }    #T_d0c8dcdc_37cf_11ea_bbc6_ebbb0198101frow3_col7 {\n",
       "            background-color:  #dfdbd9;\n",
       "        }    #T_d0c8dcdc_37cf_11ea_bbc6_ebbb0198101frow3_col8 {\n",
       "            background-color:  #e4d9d2;\n",
       "        }    #T_d0c8dcdc_37cf_11ea_bbc6_ebbb0198101frow3_col9 {\n",
       "            background-color:  #3e51c5;\n",
       "        }    #T_d0c8dcdc_37cf_11ea_bbc6_ebbb0198101frow3_col10 {\n",
       "            background-color:  #9abbff;\n",
       "        }    #T_d0c8dcdc_37cf_11ea_bbc6_ebbb0198101frow3_col11 {\n",
       "            background-color:  #b1cbfc;\n",
       "        }    #T_d0c8dcdc_37cf_11ea_bbc6_ebbb0198101frow3_col12 {\n",
       "            background-color:  #88abfd;\n",
       "        }    #T_d0c8dcdc_37cf_11ea_bbc6_ebbb0198101frow4_col0 {\n",
       "            background-color:  #4257c9;\n",
       "        }    #T_d0c8dcdc_37cf_11ea_bbc6_ebbb0198101frow4_col1 {\n",
       "            background-color:  #6f92f3;\n",
       "        }    #T_d0c8dcdc_37cf_11ea_bbc6_ebbb0198101frow4_col2 {\n",
       "            background-color:  #4a63d3;\n",
       "        }    #T_d0c8dcdc_37cf_11ea_bbc6_ebbb0198101frow4_col3 {\n",
       "            background-color:  #6687ed;\n",
       "        }    #T_d0c8dcdc_37cf_11ea_bbc6_ebbb0198101frow4_col4 {\n",
       "            background-color:  #b40426;\n",
       "        }    #T_d0c8dcdc_37cf_11ea_bbc6_ebbb0198101frow4_col5 {\n",
       "            background-color:  #3b4cc0;\n",
       "        }    #T_d0c8dcdc_37cf_11ea_bbc6_ebbb0198101frow4_col6 {\n",
       "            background-color:  #3b4cc0;\n",
       "        }    #T_d0c8dcdc_37cf_11ea_bbc6_ebbb0198101frow4_col7 {\n",
       "            background-color:  #3b4cc0;\n",
       "        }    #T_d0c8dcdc_37cf_11ea_bbc6_ebbb0198101frow4_col8 {\n",
       "            background-color:  #3b4cc0;\n",
       "        }    #T_d0c8dcdc_37cf_11ea_bbc6_ebbb0198101frow4_col9 {\n",
       "            background-color:  #81a4fb;\n",
       "        }    #T_d0c8dcdc_37cf_11ea_bbc6_ebbb0198101frow4_col10 {\n",
       "            background-color:  #3b4cc0;\n",
       "        }    #T_d0c8dcdc_37cf_11ea_bbc6_ebbb0198101frow4_col11 {\n",
       "            background-color:  #bed2f6;\n",
       "        }    #T_d0c8dcdc_37cf_11ea_bbc6_ebbb0198101frow4_col12 {\n",
       "            background-color:  #f1ccb8;\n",
       "        }    #T_d0c8dcdc_37cf_11ea_bbc6_ebbb0198101frow5_col0 {\n",
       "            background-color:  #779af7;\n",
       "        }    #T_d0c8dcdc_37cf_11ea_bbc6_ebbb0198101frow5_col1 {\n",
       "            background-color:  #d7dce3;\n",
       "        }    #T_d0c8dcdc_37cf_11ea_bbc6_ebbb0198101frow5_col2 {\n",
       "            background-color:  #cedaeb;\n",
       "        }    #T_d0c8dcdc_37cf_11ea_bbc6_ebbb0198101frow5_col3 {\n",
       "            background-color:  #f7b79b;\n",
       "        }    #T_d0c8dcdc_37cf_11ea_bbc6_ebbb0198101frow5_col4 {\n",
       "            background-color:  #6282ea;\n",
       "        }    #T_d0c8dcdc_37cf_11ea_bbc6_ebbb0198101frow5_col5 {\n",
       "            background-color:  #b40426;\n",
       "        }    #T_d0c8dcdc_37cf_11ea_bbc6_ebbb0198101frow5_col6 {\n",
       "            background-color:  #f7b396;\n",
       "        }    #T_d0c8dcdc_37cf_11ea_bbc6_ebbb0198101frow5_col7 {\n",
       "            background-color:  #a2c1ff;\n",
       "        }    #T_d0c8dcdc_37cf_11ea_bbc6_ebbb0198101frow5_col8 {\n",
       "            background-color:  #9fbfff;\n",
       "        }    #T_d0c8dcdc_37cf_11ea_bbc6_ebbb0198101frow5_col9 {\n",
       "            background-color:  #5a78e4;\n",
       "        }    #T_d0c8dcdc_37cf_11ea_bbc6_ebbb0198101frow5_col10 {\n",
       "            background-color:  #6f92f3;\n",
       "        }    #T_d0c8dcdc_37cf_11ea_bbc6_ebbb0198101frow5_col11 {\n",
       "            background-color:  #b7cff9;\n",
       "        }    #T_d0c8dcdc_37cf_11ea_bbc6_ebbb0198101frow5_col12 {\n",
       "            background-color:  #7093f3;\n",
       "        }    #T_d0c8dcdc_37cf_11ea_bbc6_ebbb0198101frow6_col0 {\n",
       "            background-color:  #84a7fc;\n",
       "        }    #T_d0c8dcdc_37cf_11ea_bbc6_ebbb0198101frow6_col1 {\n",
       "            background-color:  #f1cdba;\n",
       "        }    #T_d0c8dcdc_37cf_11ea_bbc6_ebbb0198101frow6_col2 {\n",
       "            background-color:  #e8d6cc;\n",
       "        }    #T_d0c8dcdc_37cf_11ea_bbc6_ebbb0198101frow6_col3 {\n",
       "            background-color:  #f7a688;\n",
       "        }    #T_d0c8dcdc_37cf_11ea_bbc6_ebbb0198101frow6_col4 {\n",
       "            background-color:  #5572df;\n",
       "        }    #T_d0c8dcdc_37cf_11ea_bbc6_ebbb0198101frow6_col5 {\n",
       "            background-color:  #f7b79b;\n",
       "        }    #T_d0c8dcdc_37cf_11ea_bbc6_ebbb0198101frow6_col6 {\n",
       "            background-color:  #b40426;\n",
       "        }    #T_d0c8dcdc_37cf_11ea_bbc6_ebbb0198101frow6_col7 {\n",
       "            background-color:  #b3cdfb;\n",
       "        }    #T_d0c8dcdc_37cf_11ea_bbc6_ebbb0198101frow6_col8 {\n",
       "            background-color:  #adc9fd;\n",
       "        }    #T_d0c8dcdc_37cf_11ea_bbc6_ebbb0198101frow6_col9 {\n",
       "            background-color:  #4f69d9;\n",
       "        }    #T_d0c8dcdc_37cf_11ea_bbc6_ebbb0198101frow6_col10 {\n",
       "            background-color:  #7699f6;\n",
       "        }    #T_d0c8dcdc_37cf_11ea_bbc6_ebbb0198101frow6_col11 {\n",
       "            background-color:  #7da0f9;\n",
       "        }    #T_d0c8dcdc_37cf_11ea_bbc6_ebbb0198101frow6_col12 {\n",
       "            background-color:  #3b4cc0;\n",
       "        }    #T_d0c8dcdc_37cf_11ea_bbc6_ebbb0198101frow7_col0 {\n",
       "            background-color:  #e5d8d1;\n",
       "        }    #T_d0c8dcdc_37cf_11ea_bbc6_ebbb0198101frow7_col1 {\n",
       "            background-color:  #6f92f3;\n",
       "        }    #T_d0c8dcdc_37cf_11ea_bbc6_ebbb0198101frow7_col2 {\n",
       "            background-color:  #b6cefa;\n",
       "        }    #T_d0c8dcdc_37cf_11ea_bbc6_ebbb0198101frow7_col3 {\n",
       "            background-color:  #e2dad5;\n",
       "        }    #T_d0c8dcdc_37cf_11ea_bbc6_ebbb0198101frow7_col4 {\n",
       "            background-color:  #5875e1;\n",
       "        }    #T_d0c8dcdc_37cf_11ea_bbc6_ebbb0198101frow7_col5 {\n",
       "            background-color:  #98b9ff;\n",
       "        }    #T_d0c8dcdc_37cf_11ea_bbc6_ebbb0198101frow7_col6 {\n",
       "            background-color:  #b5cdfa;\n",
       "        }    #T_d0c8dcdc_37cf_11ea_bbc6_ebbb0198101frow7_col7 {\n",
       "            background-color:  #b40426;\n",
       "        }    #T_d0c8dcdc_37cf_11ea_bbc6_ebbb0198101frow7_col8 {\n",
       "            background-color:  #de614d;\n",
       "        }    #T_d0c8dcdc_37cf_11ea_bbc6_ebbb0198101frow7_col9 {\n",
       "            background-color:  #afcafc;\n",
       "        }    #T_d0c8dcdc_37cf_11ea_bbc6_ebbb0198101frow7_col10 {\n",
       "            background-color:  #b3cdfb;\n",
       "        }    #T_d0c8dcdc_37cf_11ea_bbc6_ebbb0198101frow7_col11 {\n",
       "            background-color:  #799cf8;\n",
       "        }    #T_d0c8dcdc_37cf_11ea_bbc6_ebbb0198101frow7_col12 {\n",
       "            background-color:  #7295f4;\n",
       "        }    #T_d0c8dcdc_37cf_11ea_bbc6_ebbb0198101frow8_col0 {\n",
       "            background-color:  #d7dce3;\n",
       "        }    #T_d0c8dcdc_37cf_11ea_bbc6_ebbb0198101frow8_col1 {\n",
       "            background-color:  #7093f3;\n",
       "        }    #T_d0c8dcdc_37cf_11ea_bbc6_ebbb0198101frow8_col2 {\n",
       "            background-color:  #ecd3c5;\n",
       "        }    #T_d0c8dcdc_37cf_11ea_bbc6_ebbb0198101frow8_col3 {\n",
       "            background-color:  #f1cdba;\n",
       "        }    #T_d0c8dcdc_37cf_11ea_bbc6_ebbb0198101frow8_col4 {\n",
       "            background-color:  #779af7;\n",
       "        }    #T_d0c8dcdc_37cf_11ea_bbc6_ebbb0198101frow8_col5 {\n",
       "            background-color:  #afcafc;\n",
       "        }    #T_d0c8dcdc_37cf_11ea_bbc6_ebbb0198101frow8_col6 {\n",
       "            background-color:  #c5d6f2;\n",
       "        }    #T_d0c8dcdc_37cf_11ea_bbc6_ebbb0198101frow8_col7 {\n",
       "            background-color:  #da5a49;\n",
       "        }    #T_d0c8dcdc_37cf_11ea_bbc6_ebbb0198101frow8_col8 {\n",
       "            background-color:  #b40426;\n",
       "        }    #T_d0c8dcdc_37cf_11ea_bbc6_ebbb0198101frow8_col9 {\n",
       "            background-color:  #aec9fc;\n",
       "        }    #T_d0c8dcdc_37cf_11ea_bbc6_ebbb0198101frow8_col10 {\n",
       "            background-color:  #b3cdfb;\n",
       "        }    #T_d0c8dcdc_37cf_11ea_bbc6_ebbb0198101frow8_col11 {\n",
       "            background-color:  #97b8ff;\n",
       "        }    #T_d0c8dcdc_37cf_11ea_bbc6_ebbb0198101frow8_col12 {\n",
       "            background-color:  #9bbcff;\n",
       "        }    #T_d0c8dcdc_37cf_11ea_bbc6_ebbb0198101frow9_col0 {\n",
       "            background-color:  #5d7ce6;\n",
       "        }    #T_d0c8dcdc_37cf_11ea_bbc6_ebbb0198101frow9_col1 {\n",
       "            background-color:  #92b4fe;\n",
       "        }    #T_d0c8dcdc_37cf_11ea_bbc6_ebbb0198101frow9_col2 {\n",
       "            background-color:  #465ecf;\n",
       "        }    #T_d0c8dcdc_37cf_11ea_bbc6_ebbb0198101frow9_col3 {\n",
       "            background-color:  #3b4cc0;\n",
       "        }    #T_d0c8dcdc_37cf_11ea_bbc6_ebbb0198101frow9_col4 {\n",
       "            background-color:  #90b2fe;\n",
       "        }    #T_d0c8dcdc_37cf_11ea_bbc6_ebbb0198101frow9_col5 {\n",
       "            background-color:  #4358cb;\n",
       "        }    #T_d0c8dcdc_37cf_11ea_bbc6_ebbb0198101frow9_col6 {\n",
       "            background-color:  #445acc;\n",
       "        }    #T_d0c8dcdc_37cf_11ea_bbc6_ebbb0198101frow9_col7 {\n",
       "            background-color:  #a6c4fe;\n",
       "        }    #T_d0c8dcdc_37cf_11ea_bbc6_ebbb0198101frow9_col8 {\n",
       "            background-color:  #89acfd;\n",
       "        }    #T_d0c8dcdc_37cf_11ea_bbc6_ebbb0198101frow9_col9 {\n",
       "            background-color:  #b40426;\n",
       "        }    #T_d0c8dcdc_37cf_11ea_bbc6_ebbb0198101frow9_col10 {\n",
       "            background-color:  #4b64d5;\n",
       "        }    #T_d0c8dcdc_37cf_11ea_bbc6_ebbb0198101frow9_col11 {\n",
       "            background-color:  #3e51c5;\n",
       "        }    #T_d0c8dcdc_37cf_11ea_bbc6_ebbb0198101frow9_col12 {\n",
       "            background-color:  #aec9fc;\n",
       "        }    #T_d0c8dcdc_37cf_11ea_bbc6_ebbb0198101frow10_col0 {\n",
       "            background-color:  #86a9fc;\n",
       "        }    #T_d0c8dcdc_37cf_11ea_bbc6_ebbb0198101frow10_col1 {\n",
       "            background-color:  #3b4cc0;\n",
       "        }    #T_d0c8dcdc_37cf_11ea_bbc6_ebbb0198101frow10_col2 {\n",
       "            background-color:  #3b4cc0;\n",
       "        }    #T_d0c8dcdc_37cf_11ea_bbc6_ebbb0198101frow10_col3 {\n",
       "            background-color:  #88abfd;\n",
       "        }    #T_d0c8dcdc_37cf_11ea_bbc6_ebbb0198101frow10_col4 {\n",
       "            background-color:  #3b4cc0;\n",
       "        }    #T_d0c8dcdc_37cf_11ea_bbc6_ebbb0198101frow10_col5 {\n",
       "            background-color:  #485fd1;\n",
       "        }    #T_d0c8dcdc_37cf_11ea_bbc6_ebbb0198101frow10_col6 {\n",
       "            background-color:  #5b7ae5;\n",
       "        }    #T_d0c8dcdc_37cf_11ea_bbc6_ebbb0198101frow10_col7 {\n",
       "            background-color:  #9dbdff;\n",
       "        }    #T_d0c8dcdc_37cf_11ea_bbc6_ebbb0198101frow10_col8 {\n",
       "            background-color:  #80a3fa;\n",
       "        }    #T_d0c8dcdc_37cf_11ea_bbc6_ebbb0198101frow10_col9 {\n",
       "            background-color:  #3b4cc0;\n",
       "        }    #T_d0c8dcdc_37cf_11ea_bbc6_ebbb0198101frow10_col10 {\n",
       "            background-color:  #b40426;\n",
       "        }    #T_d0c8dcdc_37cf_11ea_bbc6_ebbb0198101frow10_col11 {\n",
       "            background-color:  #3b4cc0;\n",
       "        }    #T_d0c8dcdc_37cf_11ea_bbc6_ebbb0198101frow10_col12 {\n",
       "            background-color:  #5d7ce6;\n",
       "        }    #T_d0c8dcdc_37cf_11ea_bbc6_ebbb0198101frow11_col0 {\n",
       "            background-color:  #a5c3fe;\n",
       "        }    #T_d0c8dcdc_37cf_11ea_bbc6_ebbb0198101frow11_col1 {\n",
       "            background-color:  #9abbff;\n",
       "        }    #T_d0c8dcdc_37cf_11ea_bbc6_ebbb0198101frow11_col2 {\n",
       "            background-color:  #bbd1f8;\n",
       "        }    #T_d0c8dcdc_37cf_11ea_bbc6_ebbb0198101frow11_col3 {\n",
       "            background-color:  #dbdcde;\n",
       "        }    #T_d0c8dcdc_37cf_11ea_bbc6_ebbb0198101frow11_col4 {\n",
       "            background-color:  #ead4c8;\n",
       "        }    #T_d0c8dcdc_37cf_11ea_bbc6_ebbb0198101frow11_col5 {\n",
       "            background-color:  #d7dce3;\n",
       "        }    #T_d0c8dcdc_37cf_11ea_bbc6_ebbb0198101frow11_col6 {\n",
       "            background-color:  #b5cdfa;\n",
       "        }    #T_d0c8dcdc_37cf_11ea_bbc6_ebbb0198101frow11_col7 {\n",
       "            background-color:  #b1cbfc;\n",
       "        }    #T_d0c8dcdc_37cf_11ea_bbc6_ebbb0198101frow11_col8 {\n",
       "            background-color:  #b2ccfb;\n",
       "        }    #T_d0c8dcdc_37cf_11ea_bbc6_ebbb0198101frow11_col9 {\n",
       "            background-color:  #89acfd;\n",
       "        }    #T_d0c8dcdc_37cf_11ea_bbc6_ebbb0198101frow11_col10 {\n",
       "            background-color:  #94b6ff;\n",
       "        }    #T_d0c8dcdc_37cf_11ea_bbc6_ebbb0198101frow11_col11 {\n",
       "            background-color:  #b40426;\n",
       "        }    #T_d0c8dcdc_37cf_11ea_bbc6_ebbb0198101frow11_col12 {\n",
       "            background-color:  #f6bda2;\n",
       "        }    #T_d0c8dcdc_37cf_11ea_bbc6_ebbb0198101frow12_col0 {\n",
       "            background-color:  #88abfd;\n",
       "        }    #T_d0c8dcdc_37cf_11ea_bbc6_ebbb0198101frow12_col1 {\n",
       "            background-color:  #84a7fc;\n",
       "        }    #T_d0c8dcdc_37cf_11ea_bbc6_ebbb0198101frow12_col2 {\n",
       "            background-color:  #7a9df8;\n",
       "        }    #T_d0c8dcdc_37cf_11ea_bbc6_ebbb0198101frow12_col3 {\n",
       "            background-color:  #9dbdff;\n",
       "        }    #T_d0c8dcdc_37cf_11ea_bbc6_ebbb0198101frow12_col4 {\n",
       "            background-color:  #f6bda2;\n",
       "        }    #T_d0c8dcdc_37cf_11ea_bbc6_ebbb0198101frow12_col5 {\n",
       "            background-color:  #7597f6;\n",
       "        }    #T_d0c8dcdc_37cf_11ea_bbc6_ebbb0198101frow12_col6 {\n",
       "            background-color:  #4b64d5;\n",
       "        }    #T_d0c8dcdc_37cf_11ea_bbc6_ebbb0198101frow12_col7 {\n",
       "            background-color:  #81a4fb;\n",
       "        }    #T_d0c8dcdc_37cf_11ea_bbc6_ebbb0198101frow12_col8 {\n",
       "            background-color:  #8caffe;\n",
       "        }    #T_d0c8dcdc_37cf_11ea_bbc6_ebbb0198101frow12_col9 {\n",
       "            background-color:  #c0d4f5;\n",
       "        }    #T_d0c8dcdc_37cf_11ea_bbc6_ebbb0198101frow12_col10 {\n",
       "            background-color:  #88abfd;\n",
       "        }    #T_d0c8dcdc_37cf_11ea_bbc6_ebbb0198101frow12_col11 {\n",
       "            background-color:  #f0cdbb;\n",
       "        }    #T_d0c8dcdc_37cf_11ea_bbc6_ebbb0198101frow12_col12 {\n",
       "            background-color:  #b40426;\n",
       "        }</style>  \n",
       "<table id=\"T_d0c8dcdc_37cf_11ea_bbc6_ebbb0198101f\" > \n",
       "<thead>    <tr> \n",
       "        <th class=\"blank level0\" ></th> \n",
       "        <th class=\"col_heading level0 col0\" >crim</th> \n",
       "        <th class=\"col_heading level0 col1\" >res_zone</th> \n",
       "        <th class=\"col_heading level0 col2\" >indus</th> \n",
       "        <th class=\"col_heading level0 col3\" >nox</th> \n",
       "        <th class=\"col_heading level0 col4\" >rooms</th> \n",
       "        <th class=\"col_heading level0 col5\" >age</th> \n",
       "        <th class=\"col_heading level0 col6\" >distance</th> \n",
       "        <th class=\"col_heading level0 col7\" >highways</th> \n",
       "        <th class=\"col_heading level0 col8\" >tax</th> \n",
       "        <th class=\"col_heading level0 col9\" >pupil_ratio</th> \n",
       "        <th class=\"col_heading level0 col10\" >blacks</th> \n",
       "        <th class=\"col_heading level0 col11\" >lstats</th> \n",
       "        <th class=\"col_heading level0 col12\" >medv</th> \n",
       "    </tr></thead> \n",
       "<tbody>    <tr> \n",
       "        <th id=\"T_d0c8dcdc_37cf_11ea_bbc6_ebbb0198101flevel0_row0\" class=\"row_heading level0 row0\" >crim</th> \n",
       "        <td id=\"T_d0c8dcdc_37cf_11ea_bbc6_ebbb0198101frow0_col0\" class=\"data row0 col0\" >1</td> \n",
       "        <td id=\"T_d0c8dcdc_37cf_11ea_bbc6_ebbb0198101frow0_col1\" class=\"data row0 col1\" >0.200469</td> \n",
       "        <td id=\"T_d0c8dcdc_37cf_11ea_bbc6_ebbb0198101frow0_col2\" class=\"data row0 col2\" >0.406583</td> \n",
       "        <td id=\"T_d0c8dcdc_37cf_11ea_bbc6_ebbb0198101frow0_col3\" class=\"data row0 col3\" >0.420972</td> \n",
       "        <td id=\"T_d0c8dcdc_37cf_11ea_bbc6_ebbb0198101frow0_col4\" class=\"data row0 col4\" >0.219247</td> \n",
       "        <td id=\"T_d0c8dcdc_37cf_11ea_bbc6_ebbb0198101frow0_col5\" class=\"data row0 col5\" >0.352734</td> \n",
       "        <td id=\"T_d0c8dcdc_37cf_11ea_bbc6_ebbb0198101frow0_col6\" class=\"data row0 col6\" >0.37967</td> \n",
       "        <td id=\"T_d0c8dcdc_37cf_11ea_bbc6_ebbb0198101frow0_col7\" class=\"data row0 col7\" >0.625505</td> \n",
       "        <td id=\"T_d0c8dcdc_37cf_11ea_bbc6_ebbb0198101frow0_col8\" class=\"data row0 col8\" >0.582764</td> \n",
       "        <td id=\"T_d0c8dcdc_37cf_11ea_bbc6_ebbb0198101frow0_col9\" class=\"data row0 col9\" >0.289946</td> \n",
       "        <td id=\"T_d0c8dcdc_37cf_11ea_bbc6_ebbb0198101frow0_col10\" class=\"data row0 col10\" >0.385064</td> \n",
       "        <td id=\"T_d0c8dcdc_37cf_11ea_bbc6_ebbb0198101frow0_col11\" class=\"data row0 col11\" >0.455621</td> \n",
       "        <td id=\"T_d0c8dcdc_37cf_11ea_bbc6_ebbb0198101frow0_col12\" class=\"data row0 col12\" >0.388305</td> \n",
       "    </tr>    <tr> \n",
       "        <th id=\"T_d0c8dcdc_37cf_11ea_bbc6_ebbb0198101flevel0_row1\" class=\"row_heading level0 row1\" >res_zone</th> \n",
       "        <td id=\"T_d0c8dcdc_37cf_11ea_bbc6_ebbb0198101frow1_col0\" class=\"data row1 col0\" >0.200469</td> \n",
       "        <td id=\"T_d0c8dcdc_37cf_11ea_bbc6_ebbb0198101frow1_col1\" class=\"data row1 col1\" >1</td> \n",
       "        <td id=\"T_d0c8dcdc_37cf_11ea_bbc6_ebbb0198101frow1_col2\" class=\"data row1 col2\" >0.533828</td> \n",
       "        <td id=\"T_d0c8dcdc_37cf_11ea_bbc6_ebbb0198101frow1_col3\" class=\"data row1 col3\" >0.516604</td> \n",
       "        <td id=\"T_d0c8dcdc_37cf_11ea_bbc6_ebbb0198101frow1_col4\" class=\"data row1 col4\" >0.311991</td> \n",
       "        <td id=\"T_d0c8dcdc_37cf_11ea_bbc6_ebbb0198101frow1_col5\" class=\"data row1 col5\" >0.569537</td> \n",
       "        <td id=\"T_d0c8dcdc_37cf_11ea_bbc6_ebbb0198101frow1_col6\" class=\"data row1 col6\" >0.664408</td> \n",
       "        <td id=\"T_d0c8dcdc_37cf_11ea_bbc6_ebbb0198101frow1_col7\" class=\"data row1 col7\" >0.311948</td> \n",
       "        <td id=\"T_d0c8dcdc_37cf_11ea_bbc6_ebbb0198101frow1_col8\" class=\"data row1 col8\" >0.314563</td> \n",
       "        <td id=\"T_d0c8dcdc_37cf_11ea_bbc6_ebbb0198101frow1_col9\" class=\"data row1 col9\" >0.391679</td> \n",
       "        <td id=\"T_d0c8dcdc_37cf_11ea_bbc6_ebbb0198101frow1_col10\" class=\"data row1 col10\" >0.17552</td> \n",
       "        <td id=\"T_d0c8dcdc_37cf_11ea_bbc6_ebbb0198101frow1_col11\" class=\"data row1 col11\" >0.412995</td> \n",
       "        <td id=\"T_d0c8dcdc_37cf_11ea_bbc6_ebbb0198101frow1_col12\" class=\"data row1 col12\" >0.360445</td> \n",
       "    </tr>    <tr> \n",
       "        <th id=\"T_d0c8dcdc_37cf_11ea_bbc6_ebbb0198101flevel0_row2\" class=\"row_heading level0 row2\" >indus</th> \n",
       "        <td id=\"T_d0c8dcdc_37cf_11ea_bbc6_ebbb0198101frow2_col0\" class=\"data row2 col0\" >0.406583</td> \n",
       "        <td id=\"T_d0c8dcdc_37cf_11ea_bbc6_ebbb0198101frow2_col1\" class=\"data row2 col1\" >0.533828</td> \n",
       "        <td id=\"T_d0c8dcdc_37cf_11ea_bbc6_ebbb0198101frow2_col2\" class=\"data row2 col2\" >1</td> \n",
       "        <td id=\"T_d0c8dcdc_37cf_11ea_bbc6_ebbb0198101frow2_col3\" class=\"data row2 col3\" >0.763651</td> \n",
       "        <td id=\"T_d0c8dcdc_37cf_11ea_bbc6_ebbb0198101frow2_col4\" class=\"data row2 col4\" >0.391676</td> \n",
       "        <td id=\"T_d0c8dcdc_37cf_11ea_bbc6_ebbb0198101frow2_col5\" class=\"data row2 col5\" >0.644779</td> \n",
       "        <td id=\"T_d0c8dcdc_37cf_11ea_bbc6_ebbb0198101frow2_col6\" class=\"data row2 col6\" >0.708027</td> \n",
       "        <td id=\"T_d0c8dcdc_37cf_11ea_bbc6_ebbb0198101frow2_col7\" class=\"data row2 col7\" >0.595129</td> \n",
       "        <td id=\"T_d0c8dcdc_37cf_11ea_bbc6_ebbb0198101frow2_col8\" class=\"data row2 col8\" >0.72076</td> \n",
       "        <td id=\"T_d0c8dcdc_37cf_11ea_bbc6_ebbb0198101frow2_col9\" class=\"data row2 col9\" >0.383248</td> \n",
       "        <td id=\"T_d0c8dcdc_37cf_11ea_bbc6_ebbb0198101frow2_col10\" class=\"data row2 col10\" >0.356977</td> \n",
       "        <td id=\"T_d0c8dcdc_37cf_11ea_bbc6_ebbb0198101frow2_col11\" class=\"data row2 col11\" >0.6038</td> \n",
       "        <td id=\"T_d0c8dcdc_37cf_11ea_bbc6_ebbb0198101frow2_col12\" class=\"data row2 col12\" >0.483725</td> \n",
       "    </tr>    <tr> \n",
       "        <th id=\"T_d0c8dcdc_37cf_11ea_bbc6_ebbb0198101flevel0_row3\" class=\"row_heading level0 row3\" >nox</th> \n",
       "        <td id=\"T_d0c8dcdc_37cf_11ea_bbc6_ebbb0198101frow3_col0\" class=\"data row3 col0\" >0.420972</td> \n",
       "        <td id=\"T_d0c8dcdc_37cf_11ea_bbc6_ebbb0198101frow3_col1\" class=\"data row3 col1\" >0.516604</td> \n",
       "        <td id=\"T_d0c8dcdc_37cf_11ea_bbc6_ebbb0198101frow3_col2\" class=\"data row3 col2\" >0.763651</td> \n",
       "        <td id=\"T_d0c8dcdc_37cf_11ea_bbc6_ebbb0198101frow3_col3\" class=\"data row3 col3\" >1</td> \n",
       "        <td id=\"T_d0c8dcdc_37cf_11ea_bbc6_ebbb0198101frow3_col4\" class=\"data row3 col4\" >0.302188</td> \n",
       "        <td id=\"T_d0c8dcdc_37cf_11ea_bbc6_ebbb0198101frow3_col5\" class=\"data row3 col5\" >0.73147</td> \n",
       "        <td id=\"T_d0c8dcdc_37cf_11ea_bbc6_ebbb0198101frow3_col6\" class=\"data row3 col6\" >0.76923</td> \n",
       "        <td id=\"T_d0c8dcdc_37cf_11ea_bbc6_ebbb0198101frow3_col7\" class=\"data row3 col7\" >0.611441</td> \n",
       "        <td id=\"T_d0c8dcdc_37cf_11ea_bbc6_ebbb0198101frow3_col8\" class=\"data row3 col8\" >0.668023</td> \n",
       "        <td id=\"T_d0c8dcdc_37cf_11ea_bbc6_ebbb0198101frow3_col9\" class=\"data row3 col9\" >0.188933</td> \n",
       "        <td id=\"T_d0c8dcdc_37cf_11ea_bbc6_ebbb0198101frow3_col10\" class=\"data row3 col10\" >0.380051</td> \n",
       "        <td id=\"T_d0c8dcdc_37cf_11ea_bbc6_ebbb0198101frow3_col11\" class=\"data row3 col11\" >0.590879</td> \n",
       "        <td id=\"T_d0c8dcdc_37cf_11ea_bbc6_ebbb0198101frow3_col12\" class=\"data row3 col12\" >0.427321</td> \n",
       "    </tr>    <tr> \n",
       "        <th id=\"T_d0c8dcdc_37cf_11ea_bbc6_ebbb0198101flevel0_row4\" class=\"row_heading level0 row4\" >rooms</th> \n",
       "        <td id=\"T_d0c8dcdc_37cf_11ea_bbc6_ebbb0198101frow4_col0\" class=\"data row4 col0\" >0.219247</td> \n",
       "        <td id=\"T_d0c8dcdc_37cf_11ea_bbc6_ebbb0198101frow4_col1\" class=\"data row4 col1\" >0.311991</td> \n",
       "        <td id=\"T_d0c8dcdc_37cf_11ea_bbc6_ebbb0198101frow4_col2\" class=\"data row4 col2\" >0.391676</td> \n",
       "        <td id=\"T_d0c8dcdc_37cf_11ea_bbc6_ebbb0198101frow4_col3\" class=\"data row4 col3\" >0.302188</td> \n",
       "        <td id=\"T_d0c8dcdc_37cf_11ea_bbc6_ebbb0198101frow4_col4\" class=\"data row4 col4\" >1</td> \n",
       "        <td id=\"T_d0c8dcdc_37cf_11ea_bbc6_ebbb0198101frow4_col5\" class=\"data row4 col5\" >0.240265</td> \n",
       "        <td id=\"T_d0c8dcdc_37cf_11ea_bbc6_ebbb0198101frow4_col6\" class=\"data row4 col6\" >0.205246</td> \n",
       "        <td id=\"T_d0c8dcdc_37cf_11ea_bbc6_ebbb0198101frow4_col7\" class=\"data row4 col7\" >0.209847</td> \n",
       "        <td id=\"T_d0c8dcdc_37cf_11ea_bbc6_ebbb0198101frow4_col8\" class=\"data row4 col8\" >0.292048</td> \n",
       "        <td id=\"T_d0c8dcdc_37cf_11ea_bbc6_ebbb0198101frow4_col9\" class=\"data row4 col9\" >0.355501</td> \n",
       "        <td id=\"T_d0c8dcdc_37cf_11ea_bbc6_ebbb0198101frow4_col10\" class=\"data row4 col10\" >0.128069</td> \n",
       "        <td id=\"T_d0c8dcdc_37cf_11ea_bbc6_ebbb0198101frow4_col11\" class=\"data row4 col11\" >0.613808</td> \n",
       "        <td id=\"T_d0c8dcdc_37cf_11ea_bbc6_ebbb0198101frow4_col12\" class=\"data row4 col12\" >0.69536</td> \n",
       "    </tr>    <tr> \n",
       "        <th id=\"T_d0c8dcdc_37cf_11ea_bbc6_ebbb0198101flevel0_row5\" class=\"row_heading level0 row5\" >age</th> \n",
       "        <td id=\"T_d0c8dcdc_37cf_11ea_bbc6_ebbb0198101frow5_col0\" class=\"data row5 col0\" >0.352734</td> \n",
       "        <td id=\"T_d0c8dcdc_37cf_11ea_bbc6_ebbb0198101frow5_col1\" class=\"data row5 col1\" >0.569537</td> \n",
       "        <td id=\"T_d0c8dcdc_37cf_11ea_bbc6_ebbb0198101frow5_col2\" class=\"data row5 col2\" >0.644779</td> \n",
       "        <td id=\"T_d0c8dcdc_37cf_11ea_bbc6_ebbb0198101frow5_col3\" class=\"data row5 col3\" >0.73147</td> \n",
       "        <td id=\"T_d0c8dcdc_37cf_11ea_bbc6_ebbb0198101frow5_col4\" class=\"data row5 col4\" >0.240265</td> \n",
       "        <td id=\"T_d0c8dcdc_37cf_11ea_bbc6_ebbb0198101frow5_col5\" class=\"data row5 col5\" >1</td> \n",
       "        <td id=\"T_d0c8dcdc_37cf_11ea_bbc6_ebbb0198101frow5_col6\" class=\"data row5 col6\" >0.747881</td> \n",
       "        <td id=\"T_d0c8dcdc_37cf_11ea_bbc6_ebbb0198101frow5_col7\" class=\"data row5 col7\" >0.456022</td> \n",
       "        <td id=\"T_d0c8dcdc_37cf_11ea_bbc6_ebbb0198101frow5_col8\" class=\"data row5 col8\" >0.506456</td> \n",
       "        <td id=\"T_d0c8dcdc_37cf_11ea_bbc6_ebbb0198101frow5_col9\" class=\"data row5 col9\" >0.261515</td> \n",
       "        <td id=\"T_d0c8dcdc_37cf_11ea_bbc6_ebbb0198101frow5_col10\" class=\"data row5 col10\" >0.273534</td> \n",
       "        <td id=\"T_d0c8dcdc_37cf_11ea_bbc6_ebbb0198101frow5_col11\" class=\"data row5 col11\" >0.602339</td> \n",
       "        <td id=\"T_d0c8dcdc_37cf_11ea_bbc6_ebbb0198101frow5_col12\" class=\"data row5 col12\" >0.376955</td> \n",
       "    </tr>    <tr> \n",
       "        <th id=\"T_d0c8dcdc_37cf_11ea_bbc6_ebbb0198101flevel0_row6\" class=\"row_heading level0 row6\" >distance</th> \n",
       "        <td id=\"T_d0c8dcdc_37cf_11ea_bbc6_ebbb0198101frow6_col0\" class=\"data row6 col0\" >0.37967</td> \n",
       "        <td id=\"T_d0c8dcdc_37cf_11ea_bbc6_ebbb0198101frow6_col1\" class=\"data row6 col1\" >0.664408</td> \n",
       "        <td id=\"T_d0c8dcdc_37cf_11ea_bbc6_ebbb0198101frow6_col2\" class=\"data row6 col2\" >0.708027</td> \n",
       "        <td id=\"T_d0c8dcdc_37cf_11ea_bbc6_ebbb0198101frow6_col3\" class=\"data row6 col3\" >0.76923</td> \n",
       "        <td id=\"T_d0c8dcdc_37cf_11ea_bbc6_ebbb0198101frow6_col4\" class=\"data row6 col4\" >0.205246</td> \n",
       "        <td id=\"T_d0c8dcdc_37cf_11ea_bbc6_ebbb0198101frow6_col5\" class=\"data row6 col5\" >0.747881</td> \n",
       "        <td id=\"T_d0c8dcdc_37cf_11ea_bbc6_ebbb0198101frow6_col6\" class=\"data row6 col6\" >1</td> \n",
       "        <td id=\"T_d0c8dcdc_37cf_11ea_bbc6_ebbb0198101frow6_col7\" class=\"data row6 col7\" >0.494588</td> \n",
       "        <td id=\"T_d0c8dcdc_37cf_11ea_bbc6_ebbb0198101frow6_col8\" class=\"data row6 col8\" >0.534432</td> \n",
       "        <td id=\"T_d0c8dcdc_37cf_11ea_bbc6_ebbb0198101frow6_col9\" class=\"data row6 col9\" >0.232471</td> \n",
       "        <td id=\"T_d0c8dcdc_37cf_11ea_bbc6_ebbb0198101frow6_col10\" class=\"data row6 col10\" >0.291512</td> \n",
       "        <td id=\"T_d0c8dcdc_37cf_11ea_bbc6_ebbb0198101frow6_col11\" class=\"data row6 col11\" >0.496996</td> \n",
       "        <td id=\"T_d0c8dcdc_37cf_11ea_bbc6_ebbb0198101frow6_col12\" class=\"data row6 col12\" >0.249929</td> \n",
       "    </tr>    <tr> \n",
       "        <th id=\"T_d0c8dcdc_37cf_11ea_bbc6_ebbb0198101flevel0_row7\" class=\"row_heading level0 row7\" >highways</th> \n",
       "        <td id=\"T_d0c8dcdc_37cf_11ea_bbc6_ebbb0198101frow7_col0\" class=\"data row7 col0\" >0.625505</td> \n",
       "        <td id=\"T_d0c8dcdc_37cf_11ea_bbc6_ebbb0198101frow7_col1\" class=\"data row7 col1\" >0.311948</td> \n",
       "        <td id=\"T_d0c8dcdc_37cf_11ea_bbc6_ebbb0198101frow7_col2\" class=\"data row7 col2\" >0.595129</td> \n",
       "        <td id=\"T_d0c8dcdc_37cf_11ea_bbc6_ebbb0198101frow7_col3\" class=\"data row7 col3\" >0.611441</td> \n",
       "        <td id=\"T_d0c8dcdc_37cf_11ea_bbc6_ebbb0198101frow7_col4\" class=\"data row7 col4\" >0.209847</td> \n",
       "        <td id=\"T_d0c8dcdc_37cf_11ea_bbc6_ebbb0198101frow7_col5\" class=\"data row7 col5\" >0.456022</td> \n",
       "        <td id=\"T_d0c8dcdc_37cf_11ea_bbc6_ebbb0198101frow7_col6\" class=\"data row7 col6\" >0.494588</td> \n",
       "        <td id=\"T_d0c8dcdc_37cf_11ea_bbc6_ebbb0198101frow7_col7\" class=\"data row7 col7\" >1</td> \n",
       "        <td id=\"T_d0c8dcdc_37cf_11ea_bbc6_ebbb0198101frow7_col8\" class=\"data row7 col8\" >0.910228</td> \n",
       "        <td id=\"T_d0c8dcdc_37cf_11ea_bbc6_ebbb0198101frow7_col9\" class=\"data row7 col9\" >0.464741</td> \n",
       "        <td id=\"T_d0c8dcdc_37cf_11ea_bbc6_ebbb0198101frow7_col10\" class=\"data row7 col10\" >0.444413</td> \n",
       "        <td id=\"T_d0c8dcdc_37cf_11ea_bbc6_ebbb0198101frow7_col11\" class=\"data row7 col11\" >0.488676</td> \n",
       "        <td id=\"T_d0c8dcdc_37cf_11ea_bbc6_ebbb0198101frow7_col12\" class=\"data row7 col12\" >0.381626</td> \n",
       "    </tr>    <tr> \n",
       "        <th id=\"T_d0c8dcdc_37cf_11ea_bbc6_ebbb0198101flevel0_row8\" class=\"row_heading level0 row8\" >tax</th> \n",
       "        <td id=\"T_d0c8dcdc_37cf_11ea_bbc6_ebbb0198101frow8_col0\" class=\"data row8 col0\" >0.582764</td> \n",
       "        <td id=\"T_d0c8dcdc_37cf_11ea_bbc6_ebbb0198101frow8_col1\" class=\"data row8 col1\" >0.314563</td> \n",
       "        <td id=\"T_d0c8dcdc_37cf_11ea_bbc6_ebbb0198101frow8_col2\" class=\"data row8 col2\" >0.72076</td> \n",
       "        <td id=\"T_d0c8dcdc_37cf_11ea_bbc6_ebbb0198101frow8_col3\" class=\"data row8 col3\" >0.668023</td> \n",
       "        <td id=\"T_d0c8dcdc_37cf_11ea_bbc6_ebbb0198101frow8_col4\" class=\"data row8 col4\" >0.292048</td> \n",
       "        <td id=\"T_d0c8dcdc_37cf_11ea_bbc6_ebbb0198101frow8_col5\" class=\"data row8 col5\" >0.506456</td> \n",
       "        <td id=\"T_d0c8dcdc_37cf_11ea_bbc6_ebbb0198101frow8_col6\" class=\"data row8 col6\" >0.534432</td> \n",
       "        <td id=\"T_d0c8dcdc_37cf_11ea_bbc6_ebbb0198101frow8_col7\" class=\"data row8 col7\" >0.910228</td> \n",
       "        <td id=\"T_d0c8dcdc_37cf_11ea_bbc6_ebbb0198101frow8_col8\" class=\"data row8 col8\" >1</td> \n",
       "        <td id=\"T_d0c8dcdc_37cf_11ea_bbc6_ebbb0198101frow8_col9\" class=\"data row8 col9\" >0.460853</td> \n",
       "        <td id=\"T_d0c8dcdc_37cf_11ea_bbc6_ebbb0198101frow8_col10\" class=\"data row8 col10\" >0.441808</td> \n",
       "        <td id=\"T_d0c8dcdc_37cf_11ea_bbc6_ebbb0198101frow8_col11\" class=\"data row8 col11\" >0.543993</td> \n",
       "        <td id=\"T_d0c8dcdc_37cf_11ea_bbc6_ebbb0198101frow8_col12\" class=\"data row8 col12\" >0.468536</td> \n",
       "    </tr>    <tr> \n",
       "        <th id=\"T_d0c8dcdc_37cf_11ea_bbc6_ebbb0198101flevel0_row9\" class=\"row_heading level0 row9\" >pupil_ratio</th> \n",
       "        <td id=\"T_d0c8dcdc_37cf_11ea_bbc6_ebbb0198101frow9_col0\" class=\"data row9 col0\" >0.289946</td> \n",
       "        <td id=\"T_d0c8dcdc_37cf_11ea_bbc6_ebbb0198101frow9_col1\" class=\"data row9 col1\" >0.391679</td> \n",
       "        <td id=\"T_d0c8dcdc_37cf_11ea_bbc6_ebbb0198101frow9_col2\" class=\"data row9 col2\" >0.383248</td> \n",
       "        <td id=\"T_d0c8dcdc_37cf_11ea_bbc6_ebbb0198101frow9_col3\" class=\"data row9 col3\" >0.188933</td> \n",
       "        <td id=\"T_d0c8dcdc_37cf_11ea_bbc6_ebbb0198101frow9_col4\" class=\"data row9 col4\" >0.355501</td> \n",
       "        <td id=\"T_d0c8dcdc_37cf_11ea_bbc6_ebbb0198101frow9_col5\" class=\"data row9 col5\" >0.261515</td> \n",
       "        <td id=\"T_d0c8dcdc_37cf_11ea_bbc6_ebbb0198101frow9_col6\" class=\"data row9 col6\" >0.232471</td> \n",
       "        <td id=\"T_d0c8dcdc_37cf_11ea_bbc6_ebbb0198101frow9_col7\" class=\"data row9 col7\" >0.464741</td> \n",
       "        <td id=\"T_d0c8dcdc_37cf_11ea_bbc6_ebbb0198101frow9_col8\" class=\"data row9 col8\" >0.460853</td> \n",
       "        <td id=\"T_d0c8dcdc_37cf_11ea_bbc6_ebbb0198101frow9_col9\" class=\"data row9 col9\" >1</td> \n",
       "        <td id=\"T_d0c8dcdc_37cf_11ea_bbc6_ebbb0198101frow9_col10\" class=\"data row9 col10\" >0.177383</td> \n",
       "        <td id=\"T_d0c8dcdc_37cf_11ea_bbc6_ebbb0198101frow9_col11\" class=\"data row9 col11\" >0.374044</td> \n",
       "        <td id=\"T_d0c8dcdc_37cf_11ea_bbc6_ebbb0198101frow9_col12\" class=\"data row9 col12\" >0.507787</td> \n",
       "    </tr>    <tr> \n",
       "        <th id=\"T_d0c8dcdc_37cf_11ea_bbc6_ebbb0198101flevel0_row10\" class=\"row_heading level0 row10\" >blacks</th> \n",
       "        <td id=\"T_d0c8dcdc_37cf_11ea_bbc6_ebbb0198101frow10_col0\" class=\"data row10 col0\" >0.385064</td> \n",
       "        <td id=\"T_d0c8dcdc_37cf_11ea_bbc6_ebbb0198101frow10_col1\" class=\"data row10 col1\" >0.17552</td> \n",
       "        <td id=\"T_d0c8dcdc_37cf_11ea_bbc6_ebbb0198101frow10_col2\" class=\"data row10 col2\" >0.356977</td> \n",
       "        <td id=\"T_d0c8dcdc_37cf_11ea_bbc6_ebbb0198101frow10_col3\" class=\"data row10 col3\" >0.380051</td> \n",
       "        <td id=\"T_d0c8dcdc_37cf_11ea_bbc6_ebbb0198101frow10_col4\" class=\"data row10 col4\" >0.128069</td> \n",
       "        <td id=\"T_d0c8dcdc_37cf_11ea_bbc6_ebbb0198101frow10_col5\" class=\"data row10 col5\" >0.273534</td> \n",
       "        <td id=\"T_d0c8dcdc_37cf_11ea_bbc6_ebbb0198101frow10_col6\" class=\"data row10 col6\" >0.291512</td> \n",
       "        <td id=\"T_d0c8dcdc_37cf_11ea_bbc6_ebbb0198101frow10_col7\" class=\"data row10 col7\" >0.444413</td> \n",
       "        <td id=\"T_d0c8dcdc_37cf_11ea_bbc6_ebbb0198101frow10_col8\" class=\"data row10 col8\" >0.441808</td> \n",
       "        <td id=\"T_d0c8dcdc_37cf_11ea_bbc6_ebbb0198101frow10_col9\" class=\"data row10 col9\" >0.177383</td> \n",
       "        <td id=\"T_d0c8dcdc_37cf_11ea_bbc6_ebbb0198101frow10_col10\" class=\"data row10 col10\" >1</td> \n",
       "        <td id=\"T_d0c8dcdc_37cf_11ea_bbc6_ebbb0198101frow10_col11\" class=\"data row10 col11\" >0.366087</td> \n",
       "        <td id=\"T_d0c8dcdc_37cf_11ea_bbc6_ebbb0198101frow10_col12\" class=\"data row10 col12\" >0.333461</td> \n",
       "    </tr>    <tr> \n",
       "        <th id=\"T_d0c8dcdc_37cf_11ea_bbc6_ebbb0198101flevel0_row11\" class=\"row_heading level0 row11\" >lstats</th> \n",
       "        <td id=\"T_d0c8dcdc_37cf_11ea_bbc6_ebbb0198101frow11_col0\" class=\"data row11 col0\" >0.455621</td> \n",
       "        <td id=\"T_d0c8dcdc_37cf_11ea_bbc6_ebbb0198101frow11_col1\" class=\"data row11 col1\" >0.412995</td> \n",
       "        <td id=\"T_d0c8dcdc_37cf_11ea_bbc6_ebbb0198101frow11_col2\" class=\"data row11 col2\" >0.6038</td> \n",
       "        <td id=\"T_d0c8dcdc_37cf_11ea_bbc6_ebbb0198101frow11_col3\" class=\"data row11 col3\" >0.590879</td> \n",
       "        <td id=\"T_d0c8dcdc_37cf_11ea_bbc6_ebbb0198101frow11_col4\" class=\"data row11 col4\" >0.613808</td> \n",
       "        <td id=\"T_d0c8dcdc_37cf_11ea_bbc6_ebbb0198101frow11_col5\" class=\"data row11 col5\" >0.602339</td> \n",
       "        <td id=\"T_d0c8dcdc_37cf_11ea_bbc6_ebbb0198101frow11_col6\" class=\"data row11 col6\" >0.496996</td> \n",
       "        <td id=\"T_d0c8dcdc_37cf_11ea_bbc6_ebbb0198101frow11_col7\" class=\"data row11 col7\" >0.488676</td> \n",
       "        <td id=\"T_d0c8dcdc_37cf_11ea_bbc6_ebbb0198101frow11_col8\" class=\"data row11 col8\" >0.543993</td> \n",
       "        <td id=\"T_d0c8dcdc_37cf_11ea_bbc6_ebbb0198101frow11_col9\" class=\"data row11 col9\" >0.374044</td> \n",
       "        <td id=\"T_d0c8dcdc_37cf_11ea_bbc6_ebbb0198101frow11_col10\" class=\"data row11 col10\" >0.366087</td> \n",
       "        <td id=\"T_d0c8dcdc_37cf_11ea_bbc6_ebbb0198101frow11_col11\" class=\"data row11 col11\" >1</td> \n",
       "        <td id=\"T_d0c8dcdc_37cf_11ea_bbc6_ebbb0198101frow11_col12\" class=\"data row11 col12\" >0.737663</td> \n",
       "    </tr>    <tr> \n",
       "        <th id=\"T_d0c8dcdc_37cf_11ea_bbc6_ebbb0198101flevel0_row12\" class=\"row_heading level0 row12\" >medv</th> \n",
       "        <td id=\"T_d0c8dcdc_37cf_11ea_bbc6_ebbb0198101frow12_col0\" class=\"data row12 col0\" >0.388305</td> \n",
       "        <td id=\"T_d0c8dcdc_37cf_11ea_bbc6_ebbb0198101frow12_col1\" class=\"data row12 col1\" >0.360445</td> \n",
       "        <td id=\"T_d0c8dcdc_37cf_11ea_bbc6_ebbb0198101frow12_col2\" class=\"data row12 col2\" >0.483725</td> \n",
       "        <td id=\"T_d0c8dcdc_37cf_11ea_bbc6_ebbb0198101frow12_col3\" class=\"data row12 col3\" >0.427321</td> \n",
       "        <td id=\"T_d0c8dcdc_37cf_11ea_bbc6_ebbb0198101frow12_col4\" class=\"data row12 col4\" >0.69536</td> \n",
       "        <td id=\"T_d0c8dcdc_37cf_11ea_bbc6_ebbb0198101frow12_col5\" class=\"data row12 col5\" >0.376955</td> \n",
       "        <td id=\"T_d0c8dcdc_37cf_11ea_bbc6_ebbb0198101frow12_col6\" class=\"data row12 col6\" >0.249929</td> \n",
       "        <td id=\"T_d0c8dcdc_37cf_11ea_bbc6_ebbb0198101frow12_col7\" class=\"data row12 col7\" >0.381626</td> \n",
       "        <td id=\"T_d0c8dcdc_37cf_11ea_bbc6_ebbb0198101frow12_col8\" class=\"data row12 col8\" >0.468536</td> \n",
       "        <td id=\"T_d0c8dcdc_37cf_11ea_bbc6_ebbb0198101frow12_col9\" class=\"data row12 col9\" >0.507787</td> \n",
       "        <td id=\"T_d0c8dcdc_37cf_11ea_bbc6_ebbb0198101frow12_col10\" class=\"data row12 col10\" >0.333461</td> \n",
       "        <td id=\"T_d0c8dcdc_37cf_11ea_bbc6_ebbb0198101frow12_col11\" class=\"data row12 col11\" >0.737663</td> \n",
       "        <td id=\"T_d0c8dcdc_37cf_11ea_bbc6_ebbb0198101frow12_col12\" class=\"data row12 col12\" >1</td> \n",
       "    </tr></tbody> \n",
       "</table> "
      ],
      "text/plain": [
       "<pandas.io.formats.style.Styler at 0x7fcbd43fd450>"
      ]
     },
     "execution_count": 14,
     "metadata": {},
     "output_type": "execute_result"
    }
   ],
   "source": [
    "corr = df_clean.corr().abs()#.sort_values(by='crim')\n",
    "corr.style.background_gradient(cmap='coolwarm')\n",
    "# 'RdBu_r' & 'BrBG' are other good diverging colormaps"
   ]
  },
  {
   "cell_type": "code",
   "execution_count": 15,
   "metadata": {},
   "outputs": [],
   "source": [
    "import plotnine as p9"
   ]
  },
  {
   "cell_type": "code",
   "execution_count": 71,
   "metadata": {},
   "outputs": [
    {
     "data": {
      "text/plain": [
       "Index(['crim', 'res_zone', 'indus', 'river', 'nox', 'rooms', 'age', 'distance',\n",
       "       'highways', 'tax', 'pupil_ratio', 'blacks', 'lstats', 'medv'],\n",
       "      dtype='object')"
      ]
     },
     "execution_count": 71,
     "metadata": {},
     "output_type": "execute_result"
    }
   ],
   "source": [
    "df_clean.columns"
   ]
  },
  {
   "cell_type": "code",
   "execution_count": 72,
   "metadata": {},
   "outputs": [
    {
     "data": {
      "image/png": "[encoded data removed]",
      "text/plain": [
       "<Figure size 640x480 with 1 Axes>"
      ]
     },
     "metadata": {},
     "output_type": "display_data"
    },
    {
     "data": {
      "text/plain": [
       "<ggplot: (8743944006545)>"
      ]
     },
     "execution_count": 72,
     "metadata": {},
     "output_type": "execute_result"
    }
   ],
   "source": [
    "(p9.ggplot(data=df_clean, \n",
    "           mapping=p9.aes(x='medv', \n",
    "                          y='indus',\n",
    "                          color='river')) \n",
    " + p9.geom_point()\n",
    ")"
   ]
  },
  {
   "cell_type": "code",
   "execution_count": 73,
   "metadata": {
    "scrolled": false
   },
   "outputs": [
    {
     "data": {
      "image/png": "[encoded data removed]",
      "text/plain": [
       "<Figure size 432x432 with 16 Axes>"
      ]
     },
     "metadata": {
      "needs_background": "light"
     },
     "output_type": "display_data"
    }
   ],
   "source": [
    "pd.plotting.scatter_matrix(df_clean[['medv', 'rooms','lstats', 'pupil_ratio']], alpha=0.2, figsize=(6, 6), diagonal='kde');"
   ]
  },
  {
   "cell_type": "code",
   "execution_count": 74,
   "metadata": {},
   "outputs": [],
   "source": [
    "# I take the asbolute to spot better the features correlated with medv\n",
    "# Im gonna focus on lstats & rooms for now, although there is some correlation (0.61)"
   ]
  },
  {
   "cell_type": "code",
   "execution_count": 160,
   "metadata": {},
   "outputs": [
    {
     "data": {
      "image/png": "[encoded data removed]",
      "text/plain": [
       "<Figure size 432x288 with 16 Axes>"
      ]
     },
     "metadata": {
      "needs_background": "light"
     },
     "output_type": "display_data"
    }
   ],
   "source": [
    "df_clean.hist();"
   ]
  },
  {
   "cell_type": "code",
   "execution_count": 75,
   "metadata": {},
   "outputs": [],
   "source": [
    "from sklearn.linear_model import LinearRegression, Lasso, BayesianRidge, Ridge"
   ]
  },
  {
   "cell_type": "code",
   "execution_count": 100,
   "metadata": {},
   "outputs": [],
   "source": [
    "lr = LinearRegression(fit_intercept=True, \n",
    "                      normalize=False, \n",
    "                      copy_X=True, \n",
    "                      n_jobs=None)"
   ]
  },
  {
   "cell_type": "code",
   "execution_count": 28,
   "metadata": {},
   "outputs": [],
   "source": [
    "from sklearn.model_selection import train_test_split\n",
    "from sklearn.preprocessing import StandardScaler"
   ]
  },
  {
   "cell_type": "code",
   "execution_count": 29,
   "metadata": {},
   "outputs": [
    {
     "data": {
      "text/html": [
       "<div>\n",
       "<style scoped>\n",
       "    .dataframe tbody tr th:only-of-type {\n",
       "        vertical-align: middle;\n",
       "    }\n",
       "\n",
       "    .dataframe tbody tr th {\n",
       "        vertical-align: top;\n",
       "    }\n",
       "\n",
       "    .dataframe thead th {\n",
       "        text-align: right;\n",
       "    }\n",
       "</style>\n",
       "<table border=\"1\" class=\"dataframe\">\n",
       "  <thead>\n",
       "    <tr style=\"text-align: right;\">\n",
       "      <th></th>\n",
       "      <th>rooms</th>\n",
       "      <th>lstats</th>\n",
       "      <th>pupil_ratio</th>\n",
       "    </tr>\n",
       "  </thead>\n",
       "  <tbody>\n",
       "    <tr>\n",
       "      <th>0</th>\n",
       "      <td>6.575</td>\n",
       "      <td>4.98</td>\n",
       "      <td>15.3</td>\n",
       "    </tr>\n",
       "    <tr>\n",
       "      <th>1</th>\n",
       "      <td>6.421</td>\n",
       "      <td>9.14</td>\n",
       "      <td>17.8</td>\n",
       "    </tr>\n",
       "    <tr>\n",
       "      <th>2</th>\n",
       "      <td>7.185</td>\n",
       "      <td>4.03</td>\n",
       "      <td>17.8</td>\n",
       "    </tr>\n",
       "    <tr>\n",
       "      <th>3</th>\n",
       "      <td>6.998</td>\n",
       "      <td>2.94</td>\n",
       "      <td>18.7</td>\n",
       "    </tr>\n",
       "    <tr>\n",
       "      <th>4</th>\n",
       "      <td>7.147</td>\n",
       "      <td>5.33</td>\n",
       "      <td>18.7</td>\n",
       "    </tr>\n",
       "  </tbody>\n",
       "</table>\n",
       "</div>"
      ],
      "text/plain": [
       "   rooms  lstats  pupil_ratio\n",
       "0  6.575    4.98         15.3\n",
       "1  6.421    9.14         17.8\n",
       "2  7.185    4.03         17.8\n",
       "3  6.998    2.94         18.7\n",
       "4  7.147    5.33         18.7"
      ]
     },
     "execution_count": 29,
     "metadata": {},
     "output_type": "execute_result"
    }
   ],
   "source": [
    "X = df_clean[['rooms', 'lstats', 'pupil_ratio']]\n",
    "y = df_clean['medv']\n",
    "X.head()"
   ]
  },
  {
   "cell_type": "code",
   "execution_count": 30,
   "metadata": {},
   "outputs": [],
   "source": [
    "scaler = StandardScaler(copy=True, with_mean=True, with_std=True)\n",
    "scaler.fit(X)\n",
    "X = scaler.transform(X)"
   ]
  },
  {
   "cell_type": "code",
   "execution_count": 31,
   "metadata": {},
   "outputs": [],
   "source": [
    "\n",
    "[X_train, X_test, y_train, y_test] = train_test_split(X, y, random_state=42, test_size=0.3)"
   ]
  },
  {
   "cell_type": "code",
   "execution_count": 104,
   "metadata": {},
   "outputs": [
    {
     "data": {
      "text/plain": [
       "LinearRegression(copy_X=True, fit_intercept=True, n_jobs=None,\n",
       "         normalize=False)"
      ]
     },
     "execution_count": 104,
     "metadata": {},
     "output_type": "execute_result"
    }
   ],
   "source": [
    "lr.fit(X_train, y_train.values)"
   ]
  },
  {
   "cell_type": "code",
   "execution_count": 105,
   "metadata": {},
   "outputs": [],
   "source": [
    "from sklearn.metrics import mean_squared_error, r2_score, accuracy_score, precision_score"
   ]
  },
  {
   "cell_type": "code",
   "execution_count": 106,
   "metadata": {},
   "outputs": [
    {
     "name": "stdout",
     "output_type": "stream",
     "text": [
      "The model performance for training set\n",
      "--------------------------------------\n",
      "RMSE = residuals is 5.261867032464956\n",
      "R2 score is 0.6850018441906278\n",
      "\n",
      "\n"
     ]
    }
   ],
   "source": [
    "\n",
    "rmse = (np.sqrt(mean_squared_error(y_train, lr.predict(X_train))))\n",
    "r2 = r2_score(y_train, lr.predict(X_train))\n",
    "\n",
    "print(\"The model performance for training set\")\n",
    "print(\"--------------------------------------\")\n",
    "print('RMSE = residuals is {}'.format(rmse))\n",
    "print('R2 score is {}'.format(r2))\n",
    "print(\"\\n\")"
   ]
  },
  {
   "cell_type": "code",
   "execution_count": 98,
   "metadata": {},
   "outputs": [],
   "source": [
    "y_pred = lr.predict(X_test)"
   ]
  },
  {
   "cell_type": "code",
   "execution_count": 99,
   "metadata": {},
   "outputs": [
    {
     "name": "stdout",
     "output_type": "stream",
     "text": [
      "The model performance for training set\n",
      "--------------------------------------\n",
      "RMSE = residuals is 5.100216850500207\n",
      "R2 score is 0.650904156861472\n",
      "\n",
      "\n"
     ]
    }
   ],
   "source": [
    "rmse = (np.sqrt(mean_squared_error(y_test, lr.predict(X_test))))\n",
    "r2 = r2_score(y_test, lr.predict(X_test))\n",
    "\n",
    "print(\"The model performance for training set\")\n",
    "print(\"--------------------------------------\")\n",
    "print('RMSE = residuals is {}'.format(rmse))\n",
    "print('R2 score is {}'.format(r2))\n",
    "print(\"\\n\")"
   ]
  },
  {
   "cell_type": "code",
   "execution_count": 77,
   "metadata": {},
   "outputs": [],
   "source": [
    "from sklearn.linear_model import LinearRegression, Lasso, Ridge"
   ]
  },
  {
   "cell_type": "code",
   "execution_count": 80,
   "metadata": {},
   "outputs": [],
   "source": [
    "lasr = Lasso(alpha=1.0, fit_intercept=True, normalize=False)"
   ]
  },
  {
   "cell_type": "code",
   "execution_count": 81,
   "metadata": {},
   "outputs": [
    {
     "data": {
      "text/plain": [
       "Lasso(alpha=1.0, copy_X=True, fit_intercept=True, max_iter=1000,\n",
       "   normalize=False, positive=False, precompute=False, random_state=None,\n",
       "   selection='cyclic', tol=0.0001, warm_start=False)"
      ]
     },
     "execution_count": 81,
     "metadata": {},
     "output_type": "execute_result"
    }
   ],
   "source": [
    "lasr.fit(X_train, y_train)"
   ]
  },
  {
   "cell_type": "code",
   "execution_count": 83,
   "metadata": {},
   "outputs": [
    {
     "name": "stdout",
     "output_type": "stream",
     "text": [
      "The model performance for training set\n",
      "--------------------------------------\n",
      "RMSE = residuals is 5.391022060607561\n",
      "R2 score is 0.609959583124734\n",
      "\n",
      "\n"
     ]
    }
   ],
   "source": [
    "rmse = (np.sqrt(mean_squared_error(y_test, lasr.predict(X_test))))\n",
    "r2 = r2_score(y_test, lasr.predict(X_test))\n",
    "\n",
    "print(\"The model performance for training set\")\n",
    "print(\"--------------------------------------\")\n",
    "print('RMSE = residuals is {}'.format(rmse))\n",
    "print('R2 score is {}'.format(r2))\n",
    "print(\"\\n\")"
   ]
  },
  {
   "cell_type": "code",
   "execution_count": 111,
   "metadata": {},
   "outputs": [],
   "source": [
    "ridge = Ridge()"
   ]
  },
  {
   "cell_type": "code",
   "execution_count": 112,
   "metadata": {},
   "outputs": [
    {
     "data": {
      "text/plain": [
       "Ridge(alpha=1.0, copy_X=True, fit_intercept=True, max_iter=None,\n",
       "   normalize=False, random_state=None, solver='auto', tol=0.001)"
      ]
     },
     "execution_count": 112,
     "metadata": {},
     "output_type": "execute_result"
    }
   ],
   "source": [
    "ridge.fit(X = X_train, y= y_train)"
   ]
  },
  {
   "cell_type": "code",
   "execution_count": 114,
   "metadata": {},
   "outputs": [],
   "source": [
    "y_pred = ridge.predict(X_test)"
   ]
  },
  {
   "cell_type": "code",
   "execution_count": 115,
   "metadata": {},
   "outputs": [
    {
     "name": "stdout",
     "output_type": "stream",
     "text": [
      "The model performance for training set\n",
      "--------------------------------------\n",
      "RMSE = residuals is 5.100833618743467\n",
      "R2 score is 0.6508197195698876\n",
      "\n",
      "\n"
     ]
    }
   ],
   "source": [
    "rmse = (np.sqrt(mean_squared_error(y_test, y_pred)))\n",
    "r2 = r2_score(y_test, y_pred)\n",
    "\n",
    "print(\"The model performance for training set\")\n",
    "print(\"--------------------------------------\")\n",
    "print('RMSE = residuals is {}'.format(rmse))\n",
    "print('R2 score is {}'.format(r2))\n",
    "print(\"\\n\")"
   ]
  },
  {
   "cell_type": "code",
   "execution_count": 20,
   "metadata": {},
   "outputs": [],
   "source": [
    "from sklearn.linear_model import LinearRegression, Ridge, Lasso\n",
    "from sklearn.ensemble import AdaBoostRegressor, ExtraTreesRegressor, RandomForestRegressor\n",
    "from sklearn.tree import DecisionTreeRegressor\n",
    "from sklearn.neighbors import KNeighborsRegressor\n",
    "\n",
    "from sklearn.metrics import mean_squared_error\n",
    "\n",
    "from sklearn.model_selection import KFold, cross_val_score, LeaveOneOut"
   ]
  },
  {
   "cell_type": "code",
   "execution_count": 61,
   "metadata": {},
   "outputs": [],
   "source": [
    "models = {}\n",
    "models['Linear Regression'] = LinearRegression()\n",
    "models['Ridge Regression'] = Ridge()\n",
    "models['Lasso Regression'] = Lasso()\n",
    "models['Ada Boost'] = AdaBoostRegressor()\n",
    "models['Extra Trees'] = ExtraTreesRegressor(n_estimators=10)\n",
    "models['Random Forest'] = RandomForestRegressor(n_estimators=10)\n",
    "models['Decision Tree'] = DecisionTreeRegressor()"
   ]
  },
  {
   "cell_type": "code",
   "execution_count": 62,
   "metadata": {},
   "outputs": [
    {
     "name": "stdout",
     "output_type": "stream",
     "text": [
      "LinearRegression(copy_X=True, fit_intercept=True, n_jobs=None,\n",
      "         normalize=False): -29.285, 10.476\n",
      "Ridge(alpha=1.0, copy_X=True, fit_intercept=True, max_iter=None,\n",
      "   normalize=False, random_state=None, solver='auto', tol=0.001): -29.277, 10.458\n",
      "Lasso(alpha=1.0, copy_X=True, fit_intercept=True, max_iter=1000,\n",
      "   normalize=False, positive=False, precompute=False, random_state=None,\n",
      "   selection='cyclic', tol=0.0001, warm_start=False): -30.812, 8.924\n",
      "AdaBoostRegressor(base_estimator=None, learning_rate=1.0, loss='linear',\n",
      "         n_estimators=50, random_state=None): -19.02, 8.287\n",
      "ExtraTreesRegressor(bootstrap=False, criterion='mse', max_depth=None,\n",
      "          max_features='auto', max_leaf_nodes=None,\n",
      "          min_impurity_decrease=0.0, min_impurity_split=None,\n",
      "          min_samples_leaf=1, min_samples_split=2,\n",
      "          min_weight_fraction_leaf=0.0, n_estimators=10, n_jobs=None,\n",
      "          oob_score=False, random_state=None, verbose=0, warm_start=False): -17.699, 8.811\n",
      "RandomForestRegressor(bootstrap=True, criterion='mse', max_depth=None,\n",
      "           max_features='auto', max_leaf_nodes=None,\n",
      "           min_impurity_decrease=0.0, min_impurity_split=None,\n",
      "           min_samples_leaf=1, min_samples_split=2,\n",
      "           min_weight_fraction_leaf=0.0, n_estimators=10, n_jobs=None,\n",
      "           oob_score=False, random_state=None, verbose=0, warm_start=False): -19.008, 8.633\n",
      "DecisionTreeRegressor(criterion='mse', max_depth=None, max_features=None,\n",
      "           max_leaf_nodes=None, min_impurity_decrease=0.0,\n",
      "           min_impurity_split=None, min_samples_leaf=1,\n",
      "           min_samples_split=2, min_weight_fraction_leaf=0.0,\n",
      "           presort=False, random_state=None, splitter='best'): -32.053, 13.922\n"
     ]
    }
   ],
   "source": [
    "seed = 42\n",
    "folds = 10\n",
    "\n",
    "model_results = []\n",
    "model_names = []\n",
    "\n",
    "for iModel in models:\n",
    "    curr_mod = models[iModel]\n",
    "    k_fold = KFold(n_splits=folds, shuffle=False, random_state=seed)\n",
    "    results = cross_val_score(curr_mod, \n",
    "                              X_train, \n",
    "                              y_train, \n",
    "                              cv=folds, \n",
    "                              scoring=\"neg_mean_squared_error\"\n",
    "                             )\n",
    "    \n",
    "    model_results.append(results)\n",
    "    model_names.append(curr_mod)\n",
    "    print(\"{}: {}, {}\".format(curr_mod, round(results.mean(), 3), round(results.std(), 3)))\n",
    "    "
   ]
  },
  {
   "cell_type": "code",
   "execution_count": 63,
   "metadata": {},
   "outputs": [
    {
     "data": {
      "text/plain": [
       "<Figure size 432x288 with 0 Axes>"
      ]
     },
     "metadata": {},
     "output_type": "display_data"
    }
   ],
   "source": [
    "\n",
    "# box-whisker plot to compare regression models\n",
    "figure = plt.figure()\n",
    "figure.suptitle('Regression models comparison')\n",
    "axis = figure.add_subplot(111)\n",
    "plt.boxplot(model_results)\n",
    "axis.set_xticklabels(model_names, rotation = 45, ha=\"right\")\n",
    "axis.set_ylabel(\"Mean Squared Error (MSE)\")\n",
    "plt.margins(0.05, 0.1)\n",
    "#plt.savefig(\"model_mse_scores.png\")\n",
    "plt.clf()\n",
    "plt.show()"
   ]
  },
  {
   "cell_type": "code",
   "execution_count": 64,
   "metadata": {},
   "outputs": [
    {
     "data": {
      "image/png": "[encoded data removed]",
      "text/plain": [
       "<Figure size 432x288 with 1 Axes>"
      ]
     },
     "metadata": {
      "needs_background": "light"
     },
     "output_type": "display_data"
    }
   ],
   "source": [
    "plt.boxplot(model_results);\n",
    "    "
   ]
  },
  {
   "cell_type": "code",
   "execution_count": null,
   "metadata": {},
   "outputs": [],
   "source": []
  }
 ],
 "metadata": {
  "kernelspec": {
   "display_name": "Python 3",
   "language": "python",
   "name": "python3"
  },
  "language_info": {
   "codemirror_mode": {
    "name": "ipython",
    "version": 3
   },
   "file_extension": ".py",
   "mimetype": "text/x-python",
   "name": "python",
   "nbconvert_exporter": "python",
   "pygments_lexer": "ipython3",
   "version": "3.7.4"
  }
 },
 "nbformat": 4,
 "nbformat_minor": 2
}
